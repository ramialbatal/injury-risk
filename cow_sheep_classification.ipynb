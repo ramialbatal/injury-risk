{
 "cells": [
  {
   "cell_type": "markdown",
   "metadata": {},
   "source": [
    "# Introduction\n",
    "In this notebook I am going to explain the steps that I would follow to build a binary image classifier.\n",
    "\n",
    "This challenge is a classic (cats and dogs) classification task, where the classes are ballanced.\n",
    "\n",
    "Four approahes are proposed in a gradual order (from simple to more complex), the goal is to explain the principles of image classification with Convolutional neural networks (CNN), and to compare the results of different classifiers.\n",
    "\n",
    "## Remarks\n",
    "* The solution is not complete, more thourough investigations are needed to optimise the results and to more understand the dataset characteristics.\n",
    "* The results will be discussed and follow-up steps will be proposed when necessary.\n",
    "\n",
    "\n",
    "## Technical specifications\n",
    "\n",
    "* I am using Keras with tensorflow-gpu back-end.\n",
    "\n",
    "* The code is executed on an AWS EC2 p2.xlarge instance, using Deep Learning AMI image (https://aws.amazon.com/machine-learning/amis/).\n",
    "\n",
    "* To run notebook on your own machine please create a virtual environment with python 3.6.x, and install:\n",
    "  * tensorflow (if CPU `pip install tensorflow`, if GPU `pip install tensorflow-gpu`).\n",
    "  * keras\n",
    "  * matplotlib\n",
    "  * pillow\n",
    "  * pandas\n",
    "\n",
    "* To run this notebook in the virtual environment:\n",
    "\n",
    " * activate the virtual environment (`source projectname/bin/activate`)\n",
    " \n",
    " * `(venv) $ pip install ipykernel`\n",
    " \n",
    " * `(venv) $ ipython kernel install --user --name=projectname`\n",
    " \n",
    " * start jupyter notebook and you can select the virtual environment from the Kernel menu (Kernel -> change kernel)"
   ]
  },
  {
   "cell_type": "code",
   "execution_count": 7,
   "metadata": {},
   "outputs": [],
   "source": [
    "# To display and store the plots within the notebook.\n",
    "%matplotlib inline"
   ]
  },
  {
   "cell_type": "markdown",
   "metadata": {},
   "source": [
    "# Step 1: Preparing the directories and splitting the data\n",
    "\n",
    "For the details, please check the comments in the code cells"
   ]
  },
  {
   "cell_type": "code",
   "execution_count": 8,
   "metadata": {},
   "outputs": [],
   "source": [
    "import os\n",
    "\n",
    "# Path to the base data directory that contains Cows and Chickens sub-directories\n",
    "# In this case, this based directory is located in the same directory of the notebook\n",
    "base_dir = \"data\"\n",
    "\n",
    "\n",
    "####### Create the train directory with cows and chickens sub-directories inside it #######\n",
    "### To protect any pre-existing data, the following lines of code #####\n",
    "#### will yiel an exception if any directory already exists #####\n",
    "\n",
    "\n",
    "train_dir = os.path.join(base_dir, 'train')\n",
    "os.mkdir(train_dir)\n",
    "\n",
    "train_cows_dir = os.path.join(train_dir, 'cows')\n",
    "os.mkdir(train_cows_dir)\n",
    "\n",
    "train_chicken_dir = os.path.join(train_dir, 'chickens')\n",
    "os.mkdir(train_chicken_dir)\n",
    "\n",
    "####### Create the validation directory with cows and chickens sub-directories inside it #######\n",
    "\n",
    "validation_dir = os.path.join(base_dir, 'validation')\n",
    "os.mkdir(validation_dir)\n",
    "\n",
    "validation_cows_dir = os.path.join(validation_dir, 'cows')\n",
    "os.mkdir(validation_cows_dir)\n",
    "\n",
    "validation_chickens_dir = os.path.join(validation_dir, 'chickens')\n",
    "os.mkdir(validation_chickens_dir)\n",
    "\n",
    "####### Create the test directory with cows and chickens sub-directories inside it #######\n",
    "\n",
    "test_dir = os.path.join(base_dir, 'test')\n",
    "os.mkdir(test_dir)\n",
    "\n",
    "test_cows_dir = os.path.join(test_dir, 'cows')\n",
    "os.mkdir(test_cows_dir)\n",
    "\n",
    "test_chickens_dir = os.path.join(test_dir, 'chickens')\n",
    "os.mkdir(test_chickens_dir)"
   ]
  },
  {
   "cell_type": "code",
   "execution_count": 9,
   "metadata": {},
   "outputs": [],
   "source": [
    "# Build a list of the full path to all images (.jpg) in the dataset\n",
    "file_paths = []\n",
    "others = []\n",
    "for dirname, dirnames, filenames in os.walk(base_dir):\n",
    "    for filename in filenames:\n",
    "        if \".jpg\" in filename.lower():\n",
    "            file_paths.append(os.path.join(dirname, filename))\n",
    "        else:\n",
    "            others.append(os.path.join(dirname, filename))"
   ]
  },
  {
   "cell_type": "code",
   "execution_count": 10,
   "metadata": {},
   "outputs": [],
   "source": [
    "# Build two sub-lists, one for the paths to the cows images and another for the paths to the chickens images\n",
    "# I am shuffling the sub-lists to avoid any pre-order that could happen when reading the paths from the base directory\n",
    "\n",
    "from random import shuffle\n",
    "\n",
    "cows_img_pathes = list(filter(lambda k: 'Cows' in k, file_paths))\n",
    "shuffle(cows_img_pathes)\n",
    "\n",
    "chickens_img_pathes = list(filter(lambda k: 'Chickens' in k, file_paths))\n",
    "shuffle(chickens_img_pathes)"
   ]
  },
  {
   "cell_type": "code",
   "execution_count": 11,
   "metadata": {},
   "outputs": [],
   "source": [
    "import math\n",
    "\n",
    "# A function to split the a list of pathes into three sub-lists, training, validation and test\n",
    "# The full list and the train and validation ratios are passed as input parameters\n",
    "def train_val_test_split(full_list, train_ratio, val_ratio):\n",
    "    toal_sample_num = len(full_list)\n",
    "    \n",
    "    train_num = int(math.floor(toal_sample_num * train_ratio))\n",
    "    val_num = int(math.floor(toal_sample_num * val_ratio))\n",
    "    \n",
    "    train_list = full_list[0:train_num]\n",
    "    val_list = full_list[train_num:train_num+val_num]\n",
    "    test_list = full_list[train_num+val_num:]\n",
    "    \n",
    "    return train_list, val_list, test_list\n",
    "\n",
    "\n",
    "# Split each of the cows images list and the chickens images list into train, val and test\n",
    "# The same ratios are used to maintain the same distribution of classes in the training, validation and test sets.\n",
    "\n",
    "train_cows, val_cows, test_cows = train_val_test_split(cows_img_pathes, 0.8, 0.1)\n",
    "train_chickens, val_chickens, test_chickens = train_val_test_split(chickens_img_pathes, 0.8, 0.1)\n",
    "\n",
    "train_paths = train_cows+train_chickens\n",
    "val_paths = val_cows+val_chickens\n",
    "test_paths = test_cows+test_chickens\n",
    "\n",
    "train_samples_num = len(train_paths)\n",
    "val_samples_num = len(val_paths)\n",
    "test_samples_num = len(test_paths)\n",
    "\n",
    "\n",
    "# Make sure that the training, validation and test sets are disjoints\n",
    "assert(not bool(set(train_paths) & set(val_paths)))\n",
    "assert(not bool(set(val_paths) & set(test_paths)))\n",
    "assert(not bool(set(train_paths) & set(test_paths)))"
   ]
  },
  {
   "cell_type": "code",
   "execution_count": 12,
   "metadata": {},
   "outputs": [],
   "source": [
    "import shutil\n",
    "\n",
    "# A function to copy the files referenced in a list of paths into a distination diretory\n",
    "def copy_to_directory(pathes_list, dir_path):\n",
    "    for file_path in pathes_list:\n",
    "        file_name = file_path.split(\"/\")[-1]\n",
    "        if \".jpg\" in file_name.lower():\n",
    "            dst = os.path.join(dir_path, file_name)\n",
    "            shutil.copyfile(file_path, dst)\n",
    "\n",
    "\n",
    "# calling the previous function to copy the the the training, validation and test images into their directories\n",
    "copy_to_directory(train_cows, train_cows_dir)\n",
    "copy_to_directory(val_cows, validation_cows_dir)\n",
    "copy_to_directory(test_cows, test_cows_dir)\n",
    "\n",
    "copy_to_directory(train_chickens, train_chicken_dir)\n",
    "copy_to_directory(val_chickens, validation_chickens_dir)\n",
    "copy_to_directory(test_chickens, test_chickens_dir)"
   ]
  },
  {
   "cell_type": "code",
   "execution_count": 13,
   "metadata": {},
   "outputs": [
    {
     "name": "stdout",
     "output_type": "stream",
     "text": [
      "data\n",
      "    train\n",
      "        chickens -- (1584 images)\n",
      "        cows -- (1641 images)\n",
      "    validation\n",
      "        chickens -- (198 images)\n",
      "        cows -- (205 images)\n",
      "    Chickens -- (1980 images)\n",
      "    Cows -- (2052 images)\n",
      "    test\n",
      "        chickens -- (198 images)\n",
      "        cows -- (206 images)\n"
     ]
    }
   ],
   "source": [
    "# A helper function to \"pretty\" print a directory hierarchy with the number of images in each sub-directory\n",
    "\n",
    "def list_files(startpath):\n",
    "    for root, dirs, files in os.walk(startpath):\n",
    "        level = root.replace(startpath, '').count(os.sep)\n",
    "        indent = ' ' * 4 * (level)\n",
    "        filtered_names = list(filter(lambda k: '.jpg' in k.lower(), files))\n",
    "        if len(filtered_names) > 0:\n",
    "            print('{}{} -- ({} images)'.format(indent, os.path.basename(root), len(filtered_names)))\n",
    "        else:\n",
    "            print('{}{}'.format(indent, os.path.basename(root)))\n",
    "\n",
    "# Print the full hierarchy of our data\n",
    "\n",
    "list_files(\"data\")"
   ]
  },
  {
   "cell_type": "markdown",
   "metadata": {},
   "source": [
    "# First approach: Simple Convolutional Neural Network\n",
    "\n",
    "* At this stage we have the directory hierarchy with all training, validation and test images, we are ready to build our first CNN.\n",
    "\n",
    "* The proposed basic CNN archetecture is a stack of four alternated Conv2D (with relu activation) and MaxPooling2D layers. The alteration of Conv2D and MaxPooling2D is a standard option to start with.\n",
    "\n",
    "\n",
    "* It is challenging to choose a suitable architecture for image classification tasks. So for demonstration perpuse, I am adopting a very simple architecture used for basic tests in \"Francois Chollet - Deep Learning with Python-Manning Publications (2017)\".\n",
    "\n",
    "* In the input layer, we start from input images of size 150 × 150 (Keras will automatically scale the input images to the specified dimensions), and we end up with feature maps of size 7 × 7.\n",
    "\n",
    "* We feed the last output feature map (of shape (7, 7, 128)) into a densely connected classifer layer, by first flatten the 3D outputs to 1D vectors (of 6272 dimensions each), and then add feed these vectors to a Dense layer.\n",
    "\n",
    "* Because we have a binary classification task, the last layer has a single unit (a Dense layer of size 1) with sigmoid activation. This unit will output the probability of having one class or the other."
   ]
  },
  {
   "cell_type": "markdown",
   "metadata": {},
   "source": [
    "## Model"
   ]
  },
  {
   "cell_type": "code",
   "execution_count": 109,
   "metadata": {},
   "outputs": [],
   "source": [
    "from keras import models\n",
    "from keras import layers\n",
    "\n",
    "model = models.Sequential()\n",
    "model.add(layers.Conv2D(32, (3, 3), activation='relu', input_shape=(150, 150, 3)))\n",
    "model.add(layers.MaxPooling2D((2, 2)))\n",
    "model.add(layers.Conv2D(64, (3, 3), activation='relu'))\n",
    "model.add(layers.MaxPooling2D((2, 2)))\n",
    "model.add(layers.Conv2D(128, (3, 3), activation='relu'))\n",
    "model.add(layers.MaxPooling2D((2, 2)))\n",
    "model.add(layers.Conv2D(128, (3, 3), activation='relu'))\n",
    "model.add(layers.MaxPooling2D((2, 2)))\n",
    "model.add(layers.Flatten())\n",
    "model.add(layers.Dense(512, activation='relu'))\n",
    "model.add(layers.Dense(1, activation='sigmoid'))"
   ]
  },
  {
   "cell_type": "code",
   "execution_count": 110,
   "metadata": {
    "scrolled": false
   },
   "outputs": [
    {
     "name": "stdout",
     "output_type": "stream",
     "text": [
      "_________________________________________________________________\n",
      "Layer (type)                 Output Shape              Param #   \n",
      "=================================================================\n",
      "conv2d_115 (Conv2D)          (None, 148, 148, 32)      896       \n",
      "_________________________________________________________________\n",
      "max_pooling2d_17 (MaxPooling (None, 74, 74, 32)        0         \n",
      "_________________________________________________________________\n",
      "conv2d_116 (Conv2D)          (None, 72, 72, 64)        18496     \n",
      "_________________________________________________________________\n",
      "max_pooling2d_18 (MaxPooling (None, 36, 36, 64)        0         \n",
      "_________________________________________________________________\n",
      "conv2d_117 (Conv2D)          (None, 34, 34, 128)       73856     \n",
      "_________________________________________________________________\n",
      "max_pooling2d_19 (MaxPooling (None, 17, 17, 128)       0         \n",
      "_________________________________________________________________\n",
      "conv2d_118 (Conv2D)          (None, 15, 15, 128)       147584    \n",
      "_________________________________________________________________\n",
      "max_pooling2d_20 (MaxPooling (None, 7, 7, 128)         0         \n",
      "_________________________________________________________________\n",
      "flatten_5 (Flatten)          (None, 6272)              0         \n",
      "_________________________________________________________________\n",
      "dense_25 (Dense)             (None, 512)               3211776   \n",
      "_________________________________________________________________\n",
      "dense_26 (Dense)             (None, 1)                 513       \n",
      "=================================================================\n",
      "Total params: 3,453,121\n",
      "Trainable params: 3,453,121\n",
      "Non-trainable params: 0\n",
      "_________________________________________________________________\n"
     ]
    }
   ],
   "source": [
    "model.summary()"
   ]
  },
  {
   "cell_type": "markdown",
   "metadata": {},
   "source": [
    "## Configure the model for training\n",
    "\n",
    "For binary classification problems, the `binary_crossentropy` is a suitable loss function to minimise, and the classification accuracy `acc` is a suitable metric to report.\n",
    "\n",
    "### Remark on the learning rate\n",
    "* The learning rate (1e-4) is used to limit the magnitude of the modifications while fine-tuning.\n",
    "* In a normal context, this parameter should be tuned to find the optimal value that lead to the best results on the validation set. As the time is limited in this challenge, I only evaluated 1e-4 and 1e-5, they led to very close results while the 1e-4 converged quicker."
   ]
  },
  {
   "cell_type": "code",
   "execution_count": 18,
   "metadata": {},
   "outputs": [],
   "source": [
    "from keras import optimizers\n",
    "\n",
    "model.compile(loss='binary_crossentropy', optimizer=optimizers.RMSprop(lr=1e-4), metrics=['acc'])"
   ]
  },
  {
   "cell_type": "code",
   "execution_count": 19,
   "metadata": {},
   "outputs": [
    {
     "name": "stdout",
     "output_type": "stream",
     "text": [
      "Found 3225 images belonging to 2 classes.\n",
      "Found 403 images belonging to 2 classes.\n"
     ]
    }
   ],
   "source": [
    "from keras.preprocessing.image import ImageDataGenerator\n",
    "\n",
    "# Rescale the pixel values (between 0 and 255) to the [0, 1] interval\n",
    "# The goal behind the scaling is to make the learning easier and\n",
    "# to avoid triggering large gradient updates preventing the network form diverging.\n",
    "\n",
    "train_datagen = ImageDataGenerator(rescale=1./255)\n",
    "validation_datagen = ImageDataGenerator(rescale=1./255)\n",
    "\n",
    "\n",
    "# Use flow_from_directory function that takes the path to a directory & generates batches of data.\n",
    "# Here a isngle data augmentation is applied to unify the sizes of images.\n",
    "train_generator = train_datagen.flow_from_directory(train_dir, \n",
    "                                                    target_size=(150, 150), \n",
    "                                                    batch_size=32,\n",
    "                                                    class_mode='binary')\n",
    "\n",
    "validation_generator = validation_datagen.flow_from_directory(validation_dir, \n",
    "                                                              target_size=(150, 150),\n",
    "                                                              batch_size=32,\n",
    "                                                              class_mode='binary')"
   ]
  },
  {
   "cell_type": "markdown",
   "metadata": {},
   "source": [
    "### Remark on the target_size\n",
    "* The re-sizing the images into squares of 150 x 150 is arbitrary and selected to have a tracktable final feature map\n",
    "* More experiments are necessary to tune this factor."
   ]
  },
  {
   "cell_type": "markdown",
   "metadata": {},
   "source": [
    "## Train the first model"
   ]
  },
  {
   "cell_type": "code",
   "execution_count": 20,
   "metadata": {},
   "outputs": [
    {
     "name": "stdout",
     "output_type": "stream",
     "text": [
      "Epoch 1/50\n",
      "100/100 [==============================] - 67s 674ms/step - loss: 0.6152 - acc: 0.6462 - val_loss: 0.4860 - val_acc: 0.7987\n",
      "Epoch 2/50\n",
      "100/100 [==============================] - 19s 193ms/step - loss: 0.5035 - acc: 0.7598 - val_loss: 0.4595 - val_acc: 0.7880\n",
      "Epoch 3/50\n",
      "100/100 [==============================] - 19s 190ms/step - loss: 0.4545 - acc: 0.7879 - val_loss: 0.5420 - val_acc: 0.7388\n",
      "Epoch 4/50\n",
      "100/100 [==============================] - 19s 195ms/step - loss: 0.4214 - acc: 0.8067 - val_loss: 0.4024 - val_acc: 0.8158\n",
      "Epoch 5/50\n",
      "100/100 [==============================] - 19s 194ms/step - loss: 0.3992 - acc: 0.8185 - val_loss: 0.4218 - val_acc: 0.7859\n",
      "Epoch 6/50\n",
      "100/100 [==============================] - 20s 196ms/step - loss: 0.3754 - acc: 0.8382 - val_loss: 0.3632 - val_acc: 0.8415\n",
      "Epoch 7/50\n",
      "100/100 [==============================] - 19s 193ms/step - loss: 0.3588 - acc: 0.8447 - val_loss: 0.3930 - val_acc: 0.8351\n",
      "Epoch 8/50\n",
      "100/100 [==============================] - 19s 191ms/step - loss: 0.3432 - acc: 0.8558 - val_loss: 0.3755 - val_acc: 0.8244\n",
      "Epoch 9/50\n",
      "100/100 [==============================] - 20s 196ms/step - loss: 0.3217 - acc: 0.8704 - val_loss: 0.3524 - val_acc: 0.8522\n",
      "Epoch 10/50\n",
      "100/100 [==============================] - 19s 193ms/step - loss: 0.3001 - acc: 0.8794 - val_loss: 0.3426 - val_acc: 0.8437\n",
      "Epoch 11/50\n",
      "100/100 [==============================] - 19s 193ms/step - loss: 0.2942 - acc: 0.8769 - val_loss: 0.3656 - val_acc: 0.8394\n",
      "Epoch 12/50\n",
      "100/100 [==============================] - 19s 192ms/step - loss: 0.2741 - acc: 0.8892 - val_loss: 0.3318 - val_acc: 0.8715\n",
      "Epoch 13/50\n",
      "100/100 [==============================] - 19s 193ms/step - loss: 0.2624 - acc: 0.8947 - val_loss: 0.3655 - val_acc: 0.8458\n",
      "Epoch 14/50\n",
      "100/100 [==============================] - 19s 193ms/step - loss: 0.2429 - acc: 0.9010 - val_loss: 0.3665 - val_acc: 0.8308\n",
      "Epoch 15/50\n",
      "100/100 [==============================] - 19s 189ms/step - loss: 0.2374 - acc: 0.9029 - val_loss: 0.3362 - val_acc: 0.8415\n",
      "Epoch 16/50\n",
      "100/100 [==============================] - 20s 203ms/step - loss: 0.2154 - acc: 0.9114 - val_loss: 0.3226 - val_acc: 0.8779\n",
      "Epoch 17/50\n",
      "100/100 [==============================] - 19s 192ms/step - loss: 0.2100 - acc: 0.9174 - val_loss: 0.3343 - val_acc: 0.8758\n",
      "Epoch 18/50\n",
      "100/100 [==============================] - 20s 195ms/step - loss: 0.1916 - acc: 0.9245 - val_loss: 0.4089 - val_acc: 0.8137\n",
      "Epoch 19/50\n",
      "100/100 [==============================] - 19s 190ms/step - loss: 0.1758 - acc: 0.9327 - val_loss: 0.3517 - val_acc: 0.8694\n",
      "Epoch 20/50\n",
      "100/100 [==============================] - 20s 196ms/step - loss: 0.1694 - acc: 0.9375 - val_loss: 0.3170 - val_acc: 0.8908\n",
      "Epoch 21/50\n",
      "100/100 [==============================] - 19s 192ms/step - loss: 0.1539 - acc: 0.9408 - val_loss: 0.3301 - val_acc: 0.8865\n",
      "Epoch 22/50\n",
      "100/100 [==============================] - 19s 194ms/step - loss: 0.1495 - acc: 0.9473 - val_loss: 0.3495 - val_acc: 0.8672\n",
      "Epoch 23/50\n",
      "100/100 [==============================] - 19s 194ms/step - loss: 0.1293 - acc: 0.9533 - val_loss: 0.3565 - val_acc: 0.8501\n",
      "Epoch 24/50\n",
      "100/100 [==============================] - 19s 193ms/step - loss: 0.1222 - acc: 0.9581 - val_loss: 0.3343 - val_acc: 0.8908\n",
      "Epoch 25/50\n",
      "100/100 [==============================] - 20s 201ms/step - loss: 0.1134 - acc: 0.9566 - val_loss: 0.3244 - val_acc: 0.8822\n",
      "Epoch 26/50\n",
      "100/100 [==============================] - 19s 192ms/step - loss: 0.0960 - acc: 0.9684 - val_loss: 0.3264 - val_acc: 0.8758\n",
      "Epoch 27/50\n",
      "100/100 [==============================] - 19s 194ms/step - loss: 0.0909 - acc: 0.9697 - val_loss: 0.3384 - val_acc: 0.8779\n",
      "Epoch 28/50\n",
      "100/100 [==============================] - 19s 194ms/step - loss: 0.0760 - acc: 0.9750 - val_loss: 0.3314 - val_acc: 0.8630\n",
      "Epoch 29/50\n",
      "100/100 [==============================] - 19s 191ms/step - loss: 0.0757 - acc: 0.9744 - val_loss: 0.3961 - val_acc: 0.8865\n",
      "Epoch 30/50\n",
      "100/100 [==============================] - 20s 197ms/step - loss: 0.0652 - acc: 0.9800 - val_loss: 0.3765 - val_acc: 0.8779\n",
      "Epoch 31/50\n",
      "100/100 [==============================] - 19s 192ms/step - loss: 0.0594 - acc: 0.9822 - val_loss: 0.4178 - val_acc: 0.8672\n",
      "Epoch 32/50\n",
      "100/100 [==============================] - 19s 194ms/step - loss: 0.0612 - acc: 0.9805 - val_loss: 0.3938 - val_acc: 0.8608\n",
      "Epoch 33/50\n",
      "100/100 [==============================] - 19s 194ms/step - loss: 0.0454 - acc: 0.9881 - val_loss: 0.6591 - val_acc: 0.8522\n",
      "Epoch 34/50\n",
      "100/100 [==============================] - 20s 200ms/step - loss: 0.0457 - acc: 0.9856 - val_loss: 0.4026 - val_acc: 0.8779\n",
      "Epoch 35/50\n",
      "100/100 [==============================] - 19s 194ms/step - loss: 0.0408 - acc: 0.9878 - val_loss: 0.3845 - val_acc: 0.8865\n",
      "Epoch 36/50\n",
      "100/100 [==============================] - 19s 193ms/step - loss: 0.0334 - acc: 0.9912 - val_loss: 0.4456 - val_acc: 0.8908\n",
      "Epoch 37/50\n",
      "100/100 [==============================] - 19s 189ms/step - loss: 0.0414 - acc: 0.9878 - val_loss: 0.4413 - val_acc: 0.8737\n",
      "Epoch 38/50\n",
      "100/100 [==============================] - 20s 199ms/step - loss: 0.0280 - acc: 0.9919 - val_loss: 0.5867 - val_acc: 0.8158\n",
      "Epoch 39/50\n",
      "100/100 [==============================] - 19s 191ms/step - loss: 0.0242 - acc: 0.9922 - val_loss: 0.4325 - val_acc: 0.8844\n",
      "Epoch 40/50\n",
      "100/100 [==============================] - 19s 194ms/step - loss: 0.0245 - acc: 0.9928 - val_loss: 0.7464 - val_acc: 0.8223\n",
      "Epoch 41/50\n",
      "100/100 [==============================] - 19s 193ms/step - loss: 0.0200 - acc: 0.9959 - val_loss: 0.5155 - val_acc: 0.8908\n",
      "Epoch 42/50\n",
      "100/100 [==============================] - 19s 194ms/step - loss: 0.0236 - acc: 0.9925 - val_loss: 0.5150 - val_acc: 0.8694\n",
      "Epoch 43/50\n",
      "100/100 [==============================] - 19s 194ms/step - loss: 0.0210 - acc: 0.9941 - val_loss: 0.4600 - val_acc: 0.8908\n",
      "Epoch 44/50\n",
      "100/100 [==============================] - 20s 198ms/step - loss: 0.0141 - acc: 0.9963 - val_loss: 0.5389 - val_acc: 0.8758\n",
      "Epoch 45/50\n",
      "100/100 [==============================] - 19s 195ms/step - loss: 0.0254 - acc: 0.9934 - val_loss: 0.6675 - val_acc: 0.8480\n",
      "Epoch 46/50\n",
      "100/100 [==============================] - 19s 194ms/step - loss: 0.0153 - acc: 0.9959 - val_loss: 0.5682 - val_acc: 0.8608\n",
      "Epoch 47/50\n",
      "100/100 [==============================] - 19s 190ms/step - loss: 0.0180 - acc: 0.9953 - val_loss: 0.5170 - val_acc: 0.8865\n",
      "Epoch 48/50\n",
      "100/100 [==============================] - 19s 195ms/step - loss: 0.0159 - acc: 0.9941 - val_loss: 0.6263 - val_acc: 0.8630\n",
      "Epoch 49/50\n",
      "100/100 [==============================] - 19s 194ms/step - loss: 0.0148 - acc: 0.9953 - val_loss: 0.5482 - val_acc: 0.8801\n",
      "Epoch 50/50\n",
      "100/100 [==============================] - 19s 194ms/step - loss: 0.0072 - acc: 0.9978 - val_loss: 1.5307 - val_acc: 0.7537\n"
     ]
    }
   ],
   "source": [
    "history1 = model.fit_generator(train_generator,\n",
    "                               steps_per_epoch=100, # with batch_size of 32 and steps_per_epoch=100 we iterate cover almost all training data (3225 samples)\n",
    "                               epochs=50,\n",
    "                               validation_data=validation_generator,\n",
    "                               validation_steps=15, # with batch_size=32 and validation_stpes=15 we cover all validation data (403 samples)\n",
    "                               use_multiprocessing=True, # To maximise the usage of the GPU and memory\n",
    "                               workers=8)"
   ]
  },
  {
   "cell_type": "code",
   "execution_count": 21,
   "metadata": {},
   "outputs": [],
   "source": [
    "model.save('cows_and_chickens_model_1.h5')"
   ]
  },
  {
   "cell_type": "code",
   "execution_count": 22,
   "metadata": {},
   "outputs": [],
   "source": [
    "# Helper function to draw the training/validation accuacy and loss graphs\n",
    "import matplotlib.pyplot as plt\n",
    "\n",
    "def plot_loss_acc_graph(model_history):\n",
    "    acc = model_history.history['acc']\n",
    "    val_acc = model_history.history['val_acc']\n",
    "    loss = model_history.history['loss']\n",
    "    val_loss = model_history.history['val_loss']\n",
    "    epochs = range(1, len(acc) + 1)\n",
    "    plt.plot(epochs, acc, 'bo', label='Training acc')\n",
    "    plt.plot(epochs, val_acc, 'b', label='Validation acc')\n",
    "    plt.title('Training and validation accuracy')\n",
    "    plt.legend()\n",
    "    plt.figure()\n",
    "    plt.plot(epochs, loss, 'bo', label='Training loss')\n",
    "    plt.plot(epochs, val_loss, 'b', label='Validation loss')\n",
    "    plt.title('Training and validation loss')\n",
    "    plt.legend()\n",
    "    plt.show()"
   ]
  },
  {
   "cell_type": "markdown",
   "metadata": {},
   "source": [
    "## Plotting the training/validation accuracy and loss graphs"
   ]
  },
  {
   "cell_type": "code",
   "execution_count": 23,
   "metadata": {},
   "outputs": [
    {
     "data": {
      "image/png": "[encoded data removed]",
      "text/plain": [
       "<Figure size 432x288 with 1 Axes>"
      ]
     },
     "metadata": {},
     "output_type": "display_data"
    },
    {
     "data": {
      "image/png": "[encoded data removed]",
      "text/plain": [
       "<Figure size 432x288 with 1 Axes>"
      ]
     },
     "metadata": {},
     "output_type": "display_data"
    }
   ],
   "source": [
    "plot_loss_acc_graph(history1)"
   ]
  },
  {
   "cell_type": "markdown",
   "metadata": {},
   "source": [
    "## Disucssion\n",
    "\n",
    "* The graph show clearly an overfitting case where after about 15 epochs the accuracy on the validation set will no longer enhance (it will stay around 0.88) and the validation loss value start to encrase.\n",
    "\n",
    "* We can try to avoid the overfitting by:\n",
    "  * Adding dropout layers to the network architecture\n",
    "  * Using data augmentation (these two options will be applied in the next model)\n",
    "  * Adding more data (not possible in this challenge)\n",
    "  * Reducing the network architecture complexity (the architecture is already simple, and because of the time limitation, I prefer to explore the first two options)."
   ]
  },
  {
   "cell_type": "markdown",
   "metadata": {},
   "source": [
    "# Second Approache: Data Augmentation and Dropout layer\n",
    "\n",
    "* Data augmentation generate additional samples by applying random transofmration on the original data. This may help the model in generalising better by training on more variant data.\n",
    "\n",
    "* With Keras, this can be done by configuring these transformations through the ImageDataGenerator class. In this case I have configured 6 transformations such as rotating, shifting and horizontally flipping the images. As shown in the next cell."
   ]
  },
  {
   "cell_type": "code",
   "execution_count": 24,
   "metadata": {},
   "outputs": [],
   "source": [
    "train_datagen2 = ImageDataGenerator(rescale=1./255, \n",
    "                                   rotation_range=40, \n",
    "                                   width_shift_range=0.2, \n",
    "                                   height_shift_range=0.2,\n",
    "                                   shear_range=0.2,\n",
    "                                   zoom_range=0.2,\n",
    "                                   horizontal_flip=True,)\n",
    "\n",
    "validation_datagen2 = ImageDataGenerator(rescale=1./255) # Note that the validation data shouldn’t be augmented!"
   ]
  },
  {
   "cell_type": "markdown",
   "metadata": {},
   "source": [
    "## Model\n",
    "\n",
    "In this approach, and in order to further fight against overfitting we add a Dropout layer before the Dense classifier layer."
   ]
  },
  {
   "cell_type": "code",
   "execution_count": 25,
   "metadata": {},
   "outputs": [],
   "source": [
    "model2 = models.Sequential()\n",
    "model2.add(layers.Conv2D(32, (3, 3), activation='relu', input_shape=(150, 150, 3)))\n",
    "model2.add(layers.MaxPooling2D((2, 2)))\n",
    "model2.add(layers.Conv2D(64, (3, 3), activation='relu'))\n",
    "model2.add(layers.MaxPooling2D((2, 2)))\n",
    "model2.add(layers.Conv2D(128, (3, 3), activation='relu'))\n",
    "model2.add(layers.MaxPooling2D((2, 2)))\n",
    "model2.add(layers.Conv2D(128, (3, 3), activation='relu'))\n",
    "model2.add(layers.MaxPooling2D((2, 2)))\n",
    "model2.add(layers.Flatten())\n",
    "model2.add(layers.Dropout(0.5))\n",
    "model2.add(layers.Dense(512, activation='relu'))\n",
    "model2.add(layers.Dense(1, activation='sigmoid'))\n",
    "\n",
    "model2.compile(loss='binary_crossentropy', optimizer=optimizers.RMSprop(lr=1e-4), metrics=['acc'])"
   ]
  },
  {
   "cell_type": "code",
   "execution_count": 26,
   "metadata": {},
   "outputs": [
    {
     "name": "stdout",
     "output_type": "stream",
     "text": [
      "Found 3225 images belonging to 2 classes.\n",
      "Found 403 images belonging to 2 classes.\n",
      "Epoch 1/100\n",
      "100/100 [==============================] - 26s 259ms/step - loss: 0.6578 - acc: 0.6012 - val_loss: 0.6424 - val_acc: 0.6317\n",
      "Epoch 2/100\n",
      "  1/100 [..............................] - ETA: 6s - loss: 0.6374 - acc: 0.5625Epoch 1/100\n",
      "100/100 [==============================] - 26s 257ms/step - loss: 0.5842 - acc: 0.6956 - val_loss: 0.4836 - val_acc: 0.7944\n",
      "Epoch 3/100\n",
      "100/100 [==============================] - 27s 266ms/step - loss: 0.5479 - acc: 0.7282 - val_loss: 0.4823 - val_acc: 0.7773\n",
      "Epoch 4/100\n",
      "100/100 [==============================] - 26s 258ms/step - loss: 0.5082 - acc: 0.7537 - val_loss: 0.4726 - val_acc: 0.7859\n",
      "Epoch 5/100\n",
      "100/100 [==============================] - 26s 257ms/step - loss: 0.4949 - acc: 0.7677 - val_loss: 0.6156 - val_acc: 0.7173\n",
      "Epoch 6/100\n",
      "100/100 [==============================] - 26s 257ms/step - loss: 0.4806 - acc: 0.7761 - val_loss: 0.4039 - val_acc: 0.8287\n",
      "Epoch 7/100\n",
      "100/100 [==============================] - 26s 257ms/step - loss: 0.4583 - acc: 0.7906 - val_loss: 0.8200 - val_acc: 0.6660\n",
      "Epoch 8/100\n",
      "100/100 [==============================] - 26s 258ms/step - loss: 0.4455 - acc: 0.8050 - val_loss: 0.6218 - val_acc: 0.7173\n",
      "Epoch 9/100\n",
      "100/100 [==============================] - 26s 258ms/step - loss: 0.4470 - acc: 0.7965 - val_loss: 0.8416 - val_acc: 0.6638\n",
      "Epoch 10/100\n",
      "100/100 [==============================] - 27s 266ms/step - loss: 0.4491 - acc: 0.7962 - val_loss: 0.5359 - val_acc: 0.7495\n",
      "Epoch 11/100\n",
      "100/100 [==============================] - 26s 257ms/step - loss: 0.4278 - acc: 0.8074 - val_loss: 0.5460 - val_acc: 0.7623\n",
      "Epoch 12/100\n",
      "100/100 [==============================] - 26s 258ms/step - loss: 0.4245 - acc: 0.8045 - val_loss: 0.4568 - val_acc: 0.7944\n",
      "Epoch 13/100\n",
      "100/100 [==============================] - 26s 257ms/step - loss: 0.4133 - acc: 0.8172 - val_loss: 0.4305 - val_acc: 0.7944\n",
      "Epoch 14/100\n",
      "100/100 [==============================] - 26s 256ms/step - loss: 0.4141 - acc: 0.8156 - val_loss: 0.4337 - val_acc: 0.7880\n",
      "Epoch 15/100\n",
      "100/100 [==============================] - 26s 260ms/step - loss: 0.3961 - acc: 0.8223 - val_loss: 0.4138 - val_acc: 0.7987\n",
      "Epoch 16/100\n",
      "100/100 [==============================] - 26s 258ms/step - loss: 0.3997 - acc: 0.8207 - val_loss: 0.6136 - val_acc: 0.7259\n",
      "Epoch 17/100\n",
      "100/100 [==============================] - 26s 263ms/step - loss: 0.3949 - acc: 0.8218 - val_loss: 0.4079 - val_acc: 0.8009\n",
      "Epoch 18/100\n",
      "100/100 [==============================] - 26s 259ms/step - loss: 0.3898 - acc: 0.8311 - val_loss: 0.6480 - val_acc: 0.7388\n",
      "Epoch 19/100\n",
      "100/100 [==============================] - 26s 255ms/step - loss: 0.3827 - acc: 0.8365 - val_loss: 0.3366 - val_acc: 0.8394\n",
      "Epoch 20/100\n",
      "100/100 [==============================] - 26s 261ms/step - loss: 0.3841 - acc: 0.8297 - val_loss: 0.4483 - val_acc: 0.7880\n",
      "Epoch 21/100\n",
      "100/100 [==============================] - 26s 256ms/step - loss: 0.3624 - acc: 0.8423 - val_loss: 0.4345 - val_acc: 0.8073\n",
      "Epoch 22/100\n",
      "100/100 [==============================] - 26s 260ms/step - loss: 0.3672 - acc: 0.8383 - val_loss: 0.3938 - val_acc: 0.8180\n",
      "Epoch 23/100\n",
      "100/100 [==============================] - 26s 257ms/step - loss: 0.3677 - acc: 0.8394 - val_loss: 0.3376 - val_acc: 0.8351\n",
      "Epoch 24/100\n",
      "100/100 [==============================] - 26s 263ms/step - loss: 0.3592 - acc: 0.8419 - val_loss: 0.4355 - val_acc: 0.7880\n",
      "Epoch 25/100\n",
      "100/100 [==============================] - 26s 256ms/step - loss: 0.3577 - acc: 0.8463 - val_loss: 0.4004 - val_acc: 0.8180\n",
      "Epoch 26/100\n",
      "100/100 [==============================] - 26s 256ms/step - loss: 0.3636 - acc: 0.8461 - val_loss: 0.4959 - val_acc: 0.7537\n",
      "Epoch 27/100\n",
      "100/100 [==============================] - 26s 260ms/step - loss: 0.3462 - acc: 0.8484 - val_loss: 0.4021 - val_acc: 0.8287\n",
      "Epoch 28/100\n",
      "100/100 [==============================] - 25s 255ms/step - loss: 0.3385 - acc: 0.8505 - val_loss: 0.5603 - val_acc: 0.7537\n",
      "Epoch 29/100\n",
      "100/100 [==============================] - 26s 258ms/step - loss: 0.3474 - acc: 0.8547 - val_loss: 0.4114 - val_acc: 0.8201\n",
      "Epoch 30/100\n",
      "100/100 [==============================] - 26s 259ms/step - loss: 0.3456 - acc: 0.8504 - val_loss: 0.4590 - val_acc: 0.7816\n",
      "Epoch 31/100\n",
      "100/100 [==============================] - 26s 262ms/step - loss: 0.3262 - acc: 0.8649 - val_loss: 0.3332 - val_acc: 0.8330\n",
      "Epoch 32/100\n",
      "100/100 [==============================] - 26s 259ms/step - loss: 0.3301 - acc: 0.8545 - val_loss: 0.5021 - val_acc: 0.7580\n",
      "Epoch 33/100\n",
      "100/100 [==============================] - 26s 259ms/step - loss: 0.3333 - acc: 0.8634 - val_loss: 0.3541 - val_acc: 0.8308\n",
      "Epoch 34/100\n",
      "100/100 [==============================] - 26s 258ms/step - loss: 0.3057 - acc: 0.8732 - val_loss: 0.3610 - val_acc: 0.8437\n",
      "Epoch 35/100\n",
      "100/100 [==============================] - 26s 258ms/step - loss: 0.3257 - acc: 0.8699 - val_loss: 0.3082 - val_acc: 0.8630\n",
      "Epoch 36/100\n",
      "100/100 [==============================] - 26s 259ms/step - loss: 0.3067 - acc: 0.8686 - val_loss: 0.2864 - val_acc: 0.8672\n",
      "Epoch 37/100\n",
      "100/100 [==============================] - 26s 256ms/step - loss: 0.3152 - acc: 0.8665 - val_loss: 0.2647 - val_acc: 0.8822\n",
      "Epoch 38/100\n",
      "100/100 [==============================] - 26s 265ms/step - loss: 0.3160 - acc: 0.8708 - val_loss: 0.2841 - val_acc: 0.8630\n",
      "Epoch 39/100\n",
      "100/100 [==============================] - 26s 259ms/step - loss: 0.3093 - acc: 0.8720 - val_loss: 0.3767 - val_acc: 0.8116\n",
      "Epoch 40/100\n",
      "100/100 [==============================] - 26s 256ms/step - loss: 0.3010 - acc: 0.8641 - val_loss: 0.2977 - val_acc: 0.8587\n",
      "Epoch 41/100\n",
      "100/100 [==============================] - 26s 258ms/step - loss: 0.3059 - acc: 0.8666 - val_loss: 0.2715 - val_acc: 0.8801\n",
      "Epoch 42/100\n",
      "100/100 [==============================] - 26s 259ms/step - loss: 0.2969 - acc: 0.8725 - val_loss: 0.2659 - val_acc: 0.8694\n",
      "Epoch 43/100\n",
      "100/100 [==============================] - 26s 257ms/step - loss: 0.2838 - acc: 0.8782 - val_loss: 0.3992 - val_acc: 0.8158\n",
      "Epoch 44/100\n",
      "100/100 [==============================] - 26s 256ms/step - loss: 0.2920 - acc: 0.8788 - val_loss: 0.3204 - val_acc: 0.8351\n",
      "Epoch 45/100\n",
      "100/100 [==============================] - 26s 265ms/step - loss: 0.2881 - acc: 0.8755 - val_loss: 0.2319 - val_acc: 0.9015\n",
      "Epoch 46/100\n",
      "100/100 [==============================] - 26s 259ms/step - loss: 0.2867 - acc: 0.8811 - val_loss: 0.5319 - val_acc: 0.7730\n",
      "Epoch 47/100\n",
      "100/100 [==============================] - 26s 259ms/step - loss: 0.2808 - acc: 0.8808 - val_loss: 0.2417 - val_acc: 0.8887\n",
      "Epoch 48/100\n",
      "100/100 [==============================] - 26s 257ms/step - loss: 0.2780 - acc: 0.8863 - val_loss: 0.2626 - val_acc: 0.8694\n",
      "Epoch 49/100\n",
      "100/100 [==============================] - 26s 256ms/step - loss: 0.2937 - acc: 0.8872 - val_loss: 0.3957 - val_acc: 0.8266\n",
      "Epoch 50/100\n",
      "100/100 [==============================] - 26s 258ms/step - loss: 0.2685 - acc: 0.8893 - val_loss: 0.2604 - val_acc: 0.8694\n",
      "Epoch 51/100\n",
      "100/100 [==============================] - 26s 262ms/step - loss: 0.2769 - acc: 0.8826 - val_loss: 0.2695 - val_acc: 0.8694\n",
      "Epoch 52/100\n",
      "100/100 [==============================] - 26s 260ms/step - loss: 0.2844 - acc: 0.8841 - val_loss: 0.2704 - val_acc: 0.8758\n",
      "Epoch 53/100\n",
      "100/100 [==============================] - 26s 258ms/step - loss: 0.2534 - acc: 0.8950 - val_loss: 0.6388 - val_acc: 0.7794\n",
      "Epoch 54/100\n",
      "100/100 [==============================] - 26s 260ms/step - loss: 0.2788 - acc: 0.8794 - val_loss: 0.3018 - val_acc: 0.8651\n",
      "Epoch 55/100\n",
      "100/100 [==============================] - 26s 256ms/step - loss: 0.2599 - acc: 0.8910 - val_loss: 0.4102 - val_acc: 0.8351\n",
      "Epoch 56/100\n",
      "100/100 [==============================] - 26s 257ms/step - loss: 0.2626 - acc: 0.8944 - val_loss: 0.2383 - val_acc: 0.8994\n",
      "Epoch 57/100\n",
      "100/100 [==============================] - 25s 255ms/step - loss: 0.2791 - acc: 0.8900 - val_loss: 0.2388 - val_acc: 0.8801\n",
      "Epoch 58/100\n",
      "100/100 [==============================] - 26s 260ms/step - loss: 0.2742 - acc: 0.8882 - val_loss: 0.2513 - val_acc: 0.8865\n",
      "Epoch 59/100\n",
      "100/100 [==============================] - 26s 265ms/step - loss: 0.2394 - acc: 0.9042 - val_loss: 0.2728 - val_acc: 0.8801\n",
      "Epoch 60/100\n",
      "100/100 [==============================] - 26s 260ms/step - loss: 0.2673 - acc: 0.8894 - val_loss: 0.2519 - val_acc: 0.8801\n",
      "Epoch 61/100\n",
      "100/100 [==============================] - 26s 256ms/step - loss: 0.2625 - acc: 0.8993 - val_loss: 0.6216 - val_acc: 0.7473\n",
      "Epoch 62/100\n",
      "100/100 [==============================] - 26s 257ms/step - loss: 0.2619 - acc: 0.8882 - val_loss: 0.2558 - val_acc: 0.8822\n",
      "Epoch 63/100\n",
      "100/100 [==============================] - 26s 259ms/step - loss: 0.2589 - acc: 0.8944 - val_loss: 0.3469 - val_acc: 0.8394\n",
      "Epoch 64/100\n",
      "100/100 [==============================] - 26s 256ms/step - loss: 0.2595 - acc: 0.8910 - val_loss: 0.2216 - val_acc: 0.9079\n",
      "Epoch 65/100\n",
      "100/100 [==============================] - 26s 257ms/step - loss: 0.2526 - acc: 0.8912 - val_loss: 0.2420 - val_acc: 0.8779\n",
      "Epoch 66/100\n",
      "100/100 [==============================] - 26s 263ms/step - loss: 0.2474 - acc: 0.9040 - val_loss: 0.3288 - val_acc: 0.8672\n",
      "Epoch 67/100\n",
      "100/100 [==============================] - 26s 255ms/step - loss: 0.2464 - acc: 0.9046 - val_loss: 0.2692 - val_acc: 0.8672\n",
      "Epoch 68/100\n",
      "100/100 [==============================] - 26s 261ms/step - loss: 0.2636 - acc: 0.8918 - val_loss: 0.2241 - val_acc: 0.9015\n",
      "Epoch 69/100\n",
      "100/100 [==============================] - 26s 258ms/step - loss: 0.2381 - acc: 0.9037 - val_loss: 0.4641 - val_acc: 0.8201\n",
      "Epoch 70/100\n",
      "100/100 [==============================] - 26s 256ms/step - loss: 0.2505 - acc: 0.8995 - val_loss: 0.2906 - val_acc: 0.8608\n",
      "Epoch 71/100\n",
      "100/100 [==============================] - 26s 260ms/step - loss: 0.2516 - acc: 0.8933 - val_loss: 0.2208 - val_acc: 0.9101\n",
      "Epoch 72/100\n",
      "100/100 [==============================] - 26s 255ms/step - loss: 0.2545 - acc: 0.8937 - val_loss: 0.4464 - val_acc: 0.8244\n",
      "Epoch 73/100\n",
      "100/100 [==============================] - 27s 266ms/step - loss: 0.2431 - acc: 0.9008 - val_loss: 0.2861 - val_acc: 0.9036\n",
      "Epoch 74/100\n",
      "100/100 [==============================] - 26s 257ms/step - loss: 0.2396 - acc: 0.9056 - val_loss: 0.3425 - val_acc: 0.8458\n",
      "Epoch 75/100\n",
      "100/100 [==============================] - 26s 256ms/step - loss: 0.2367 - acc: 0.9064 - val_loss: 0.2174 - val_acc: 0.9165\n",
      "Epoch 76/100\n",
      "100/100 [==============================] - 26s 258ms/step - loss: 0.2437 - acc: 0.9003 - val_loss: 0.2431 - val_acc: 0.9058\n",
      "Epoch 77/100\n",
      "100/100 [==============================] - 26s 255ms/step - loss: 0.2291 - acc: 0.9069 - val_loss: 0.2862 - val_acc: 0.8651\n",
      "Epoch 78/100\n",
      "100/100 [==============================] - 26s 261ms/step - loss: 0.2330 - acc: 0.9088 - val_loss: 0.2921 - val_acc: 0.8544\n",
      "Epoch 79/100\n",
      "100/100 [==============================] - 26s 255ms/step - loss: 0.2463 - acc: 0.9051 - val_loss: 0.2110 - val_acc: 0.9036\n",
      "Epoch 80/100\n",
      "100/100 [==============================] - 27s 266ms/step - loss: 0.2347 - acc: 0.9067 - val_loss: 0.2288 - val_acc: 0.8844\n",
      "Epoch 81/100\n",
      "100/100 [==============================] - 26s 257ms/step - loss: 0.2287 - acc: 0.9036 - val_loss: 0.3704 - val_acc: 0.8437\n",
      "Epoch 82/100\n",
      "100/100 [==============================] - 26s 258ms/step - loss: 0.2458 - acc: 0.9000 - val_loss: 0.2319 - val_acc: 0.9015\n",
      "Epoch 83/100\n",
      "100/100 [==============================] - 26s 256ms/step - loss: 0.2301 - acc: 0.9083 - val_loss: 0.2351 - val_acc: 0.9101\n",
      "Epoch 84/100\n",
      "100/100 [==============================] - 26s 259ms/step - loss: 0.2369 - acc: 0.9055 - val_loss: 0.5753 - val_acc: 0.8009\n",
      "Epoch 85/100\n",
      "100/100 [==============================] - 26s 258ms/step - loss: 0.2287 - acc: 0.9086 - val_loss: 0.2388 - val_acc: 0.8887\n",
      "Epoch 86/100\n",
      "100/100 [==============================] - 25s 254ms/step - loss: 0.2261 - acc: 0.9091 - val_loss: 0.2461 - val_acc: 0.9079\n",
      "Epoch 87/100\n",
      "100/100 [==============================] - 26s 265ms/step - loss: 0.2379 - acc: 0.9059 - val_loss: 0.2156 - val_acc: 0.9143\n",
      "Epoch 88/100\n",
      "100/100 [==============================] - 26s 257ms/step - loss: 0.2030 - acc: 0.9175 - val_loss: 0.3485 - val_acc: 0.8458\n",
      "Epoch 89/100\n",
      "100/100 [==============================] - 26s 260ms/step - loss: 0.2419 - acc: 0.9022 - val_loss: 0.2121 - val_acc: 0.9143\n",
      "Epoch 90/100\n",
      "100/100 [==============================] - 26s 258ms/step - loss: 0.2221 - acc: 0.9101 - val_loss: 0.4460 - val_acc: 0.8116\n",
      "Epoch 91/100\n",
      "100/100 [==============================] - 26s 259ms/step - loss: 0.2184 - acc: 0.9106 - val_loss: 0.2218 - val_acc: 0.9208\n",
      "Epoch 92/100\n",
      "100/100 [==============================] - 26s 256ms/step - loss: 0.2331 - acc: 0.9079 - val_loss: 0.2723 - val_acc: 0.8694\n",
      "Epoch 93/100\n",
      "100/100 [==============================] - 26s 260ms/step - loss: 0.2220 - acc: 0.9070 - val_loss: 0.2599 - val_acc: 0.8758\n",
      "Epoch 94/100\n",
      "100/100 [==============================] - 26s 263ms/step - loss: 0.2238 - acc: 0.9084 - val_loss: 0.2808 - val_acc: 0.8565\n",
      "Epoch 95/100\n",
      "100/100 [==============================] - 26s 259ms/step - loss: 0.2286 - acc: 0.9073 - val_loss: 0.3856 - val_acc: 0.8244\n",
      "Epoch 96/100\n",
      "100/100 [==============================] - 26s 257ms/step - loss: 0.2205 - acc: 0.9140 - val_loss: 0.3813 - val_acc: 0.8266\n",
      "Epoch 97/100\n",
      "100/100 [==============================] - 26s 255ms/step - loss: 0.2231 - acc: 0.9098 - val_loss: 0.2431 - val_acc: 0.8779\n",
      "Epoch 98/100\n",
      "100/100 [==============================] - 26s 259ms/step - loss: 0.2231 - acc: 0.9060 - val_loss: 0.4479 - val_acc: 0.8158\n",
      "Epoch 99/100\n",
      "100/100 [==============================] - 25s 255ms/step - loss: 0.2117 - acc: 0.9148 - val_loss: 0.2485 - val_acc: 0.8887\n",
      "Epoch 100/100\n",
      "100/100 [==============================] - 26s 257ms/step - loss: 0.2256 - acc: 0.9077 - val_loss: 0.2554 - val_acc: 0.8951\n"
     ]
    }
   ],
   "source": [
    "train_generator2 = train_datagen2.flow_from_directory(train_dir,\n",
    "                                                    target_size=(150, 150),\n",
    "                                                    batch_size=32,\n",
    "                                                    class_mode='binary')\n",
    "\n",
    "validation_generator2 = validation_datagen2.flow_from_directory(validation_dir,\n",
    "                                                        target_size=(150, 150),\n",
    "                                                        batch_size=32,\n",
    "                                                        class_mode='binary')\n",
    "\n",
    "history2 = model2.fit_generator(train_generator2,\n",
    "                               steps_per_epoch=100,\n",
    "                               epochs=100, # adding the augmented data will make the training harder so we add more epochs\n",
    "                               validation_data=validation_generator2,\n",
    "                               validation_steps=15,\n",
    "                                use_multiprocessing=True,\n",
    "                                workers=8)"
   ]
  },
  {
   "cell_type": "code",
   "execution_count": 27,
   "metadata": {},
   "outputs": [],
   "source": [
    "model.save('cows_and_chickens_model_2.h5')"
   ]
  },
  {
   "cell_type": "markdown",
   "metadata": {},
   "source": [
    "## Plotting the training/validation accuracy and loss graphs"
   ]
  },
  {
   "cell_type": "code",
   "execution_count": 28,
   "metadata": {},
   "outputs": [
    {
     "data": {
      "image/png": "[encoded data removed]",
      "text/plain": [
       "<Figure size 432x288 with 1 Axes>"
      ]
     },
     "metadata": {},
     "output_type": "display_data"
    },
    {
     "data": {
      "image/png": "[encoded data removed]",
      "text/plain": [
       "<Figure size 432x288 with 1 Axes>"
      ]
     },
     "metadata": {},
     "output_type": "display_data"
    }
   ],
   "source": [
    "plot_loss_acc_graph(history2)"
   ]
  },
  {
   "cell_type": "markdown",
   "metadata": {},
   "source": [
    "## Discussion\n",
    "\n",
    "From the graphs we can notice the following:\n",
    "* The validation graphs now are more alligned with the training graphs, which is a sign of less overfitting.\n",
    "* The validation graphs reache higher values of accuracy and lower values of loss in the advanced epochs, so the performance has enhanced (the accuracy starts reaching 0.9 after 70 epochs).\n",
    "* However, the validation graphs tend to fluctuate, which means that even in advanced epochs sometimes the classifier miss classify samples. Generally, smoother graphs are better because they reflect models that have more prdictable behavior on unseen data.\n",
    "* The data augmentation might solved the problem of overfitting, but the classifier still has unpredictable behavior.\n",
    "* This lead me to think that the network architecture is not suitable enough for this dataset.\n",
    "\n",
    "Adjusting the network architecture manually is a very challenging and inefficient solution. Instead we can use pretrained networks. This solution is very effiective on small image datasets like this one. I will explore this option in the next section."
   ]
  },
  {
   "cell_type": "markdown",
   "metadata": {},
   "source": [
    "# Third approach: using a pretrained CNN\n",
    "\n",
    "Pretrained networks are saved networks (i.e. architecture + weights) already trained on a large dataset. Some of these netwroks are trained on generic datasets with many objects and scenes at a point that the learned spatial features hierarchy can be considered as a generic model of the visual world. So these visual features can be used to solve other computer vision tasks even if they deal with completely different classes or usecases.\n",
    "\n",
    "In this approach I will use a pre-trained newtork packaged with Keras to extract features from the images and then train a classifier on top of the output of the network. The convolutional base (i.e. the sequence of pooling and convolution layers in a network) is used for the feature extraction.\n",
    "\n",
    "Here I will be using the VGG16 packaged with Keras along with other networks (e.g. Xception, ResNet...). VGG16 is a network trained on ImageNet and knowing to yeld good features for image classification."
   ]
  },
  {
   "cell_type": "code",
   "execution_count": 54,
   "metadata": {},
   "outputs": [],
   "source": [
    "# Loading the VGG16 convolutional base, with its weights, excluding the top dense layer for classification.\n",
    "# We also specify the input-shape to be conform with the input_shape we used in the previous models to allow fair comparision of te preformance\n",
    "\n",
    "from keras.applications import VGG16\n",
    "vgg16_base = VGG16(weights='imagenet', include_top=False, input_shape=(150, 150, 3))"
   ]
  },
  {
   "cell_type": "code",
   "execution_count": 55,
   "metadata": {},
   "outputs": [
    {
     "name": "stdout",
     "output_type": "stream",
     "text": [
      "_________________________________________________________________\n",
      "Layer (type)                 Output Shape              Param #   \n",
      "=================================================================\n",
      "input_6 (InputLayer)         (None, 150, 150, 3)       0         \n",
      "_________________________________________________________________\n",
      "block1_conv1 (Conv2D)        (None, 150, 150, 64)      1792      \n",
      "_________________________________________________________________\n",
      "block1_conv2 (Conv2D)        (None, 150, 150, 64)      36928     \n",
      "_________________________________________________________________\n",
      "block1_pool (MaxPooling2D)   (None, 75, 75, 64)        0         \n",
      "_________________________________________________________________\n",
      "block2_conv1 (Conv2D)        (None, 75, 75, 128)       73856     \n",
      "_________________________________________________________________\n",
      "block2_conv2 (Conv2D)        (None, 75, 75, 128)       147584    \n",
      "_________________________________________________________________\n",
      "block2_pool (MaxPooling2D)   (None, 37, 37, 128)       0         \n",
      "_________________________________________________________________\n",
      "block3_conv1 (Conv2D)        (None, 37, 37, 256)       295168    \n",
      "_________________________________________________________________\n",
      "block3_conv2 (Conv2D)        (None, 37, 37, 256)       590080    \n",
      "_________________________________________________________________\n",
      "block3_conv3 (Conv2D)        (None, 37, 37, 256)       590080    \n",
      "_________________________________________________________________\n",
      "block3_pool (MaxPooling2D)   (None, 18, 18, 256)       0         \n",
      "_________________________________________________________________\n",
      "block4_conv1 (Conv2D)        (None, 18, 18, 512)       1180160   \n",
      "_________________________________________________________________\n",
      "block4_conv2 (Conv2D)        (None, 18, 18, 512)       2359808   \n",
      "_________________________________________________________________\n",
      "block4_conv3 (Conv2D)        (None, 18, 18, 512)       2359808   \n",
      "_________________________________________________________________\n",
      "block4_pool (MaxPooling2D)   (None, 9, 9, 512)         0         \n",
      "_________________________________________________________________\n",
      "block5_conv1 (Conv2D)        (None, 9, 9, 512)         2359808   \n",
      "_________________________________________________________________\n",
      "block5_conv2 (Conv2D)        (None, 9, 9, 512)         2359808   \n",
      "_________________________________________________________________\n",
      "block5_conv3 (Conv2D)        (None, 9, 9, 512)         2359808   \n",
      "_________________________________________________________________\n",
      "block5_pool (MaxPooling2D)   (None, 4, 4, 512)         0         \n",
      "=================================================================\n",
      "Total params: 14,714,688\n",
      "Trainable params: 14,714,688\n",
      "Non-trainable params: 0\n",
      "_________________________________________________________________\n"
     ]
    }
   ],
   "source": [
    "vgg16_base.summary()"
   ]
  },
  {
   "cell_type": "markdown",
   "metadata": {},
   "source": [
    "**We can notice that the finale layer output shape is (4,4,512), and I will add a densly connected classifier on top of it.**"
   ]
  },
  {
   "cell_type": "code",
   "execution_count": 56,
   "metadata": {},
   "outputs": [],
   "source": [
    "import numpy as np\n",
    "\n",
    "datagen = ImageDataGenerator(rescale=1./255)\n",
    "batch_size = 32\n",
    "\n",
    "def extract_features(directory, sample_count):\n",
    "    features = np.zeros(shape=(sample_count, 4, 4, 512)) # prepare the array for the features of all images in a directory\n",
    "    labels = np.zeros(shape=(sample_count)) # prepare the array for the labels\n",
    "    generator = datagen.flow_from_directory(directory, \n",
    "                                            target_size=(150, 150), \n",
    "                                            batch_size=batch_size, \n",
    "                                            class_mode='binary')\n",
    "    i = 0\n",
    "    for inputs_batch, labels_batch in generator:\n",
    "        features_batch = vgg16_base.predict(inputs_batch) # we use the vgg16_base predict to extract features\n",
    "        features[i * batch_size : (i + 1) * batch_size] = features_batch\n",
    "        labels[i * batch_size : (i + 1) * batch_size] = labels_batch\n",
    "        i += 1\n",
    "        if i * batch_size >= sample_count: # the generator generate data infinitly to we need to stop it once we process all the images in the directory\n",
    "            break\n",
    "    return features, labels"
   ]
  },
  {
   "cell_type": "code",
   "execution_count": 57,
   "metadata": {},
   "outputs": [
    {
     "name": "stdout",
     "output_type": "stream",
     "text": [
      "Found 3225 images belonging to 2 classes.\n",
      "Found 403 images belonging to 2 classes.\n",
      "Found 404 images belonging to 2 classes.\n"
     ]
    }
   ],
   "source": [
    "train_features, train_labels = extract_features(train_dir, train_samples_num-(train_samples_num%batch_size))\n",
    "validation_features, validation_labels = extract_features(validation_dir, val_samples_num-(val_samples_num%batch_size))\n",
    "test_features, test_labels = extract_features(test_dir, test_samples_num-(test_samples_num%batch_size))"
   ]
  },
  {
   "cell_type": "code",
   "execution_count": 63,
   "metadata": {},
   "outputs": [],
   "source": [
    "# We need to flatten the extracted features in order to pass it to a densly connected classifier.\n",
    "\n",
    "train_features = np.reshape(train_features, (train_samples_num-(train_samples_num%batch_size), 4 * 4 * 512))\n",
    "validation_features = np.reshape(validation_features, (val_samples_num-(val_samples_num%batch_size), 4 * 4 * 512))\n",
    "test_features = np.reshape(test_features, (test_samples_num-(test_samples_num%batch_size), 4 * 4 * 512))"
   ]
  },
  {
   "cell_type": "code",
   "execution_count": 65,
   "metadata": {},
   "outputs": [
    {
     "name": "stdout",
     "output_type": "stream",
     "text": [
      "Train on 3200 samples, validate on 384 samples\n",
      "Epoch 1/50\n",
      "3200/3200 [==============================] - 3s 815us/step - loss: 0.5703 - acc: 0.7013 - val_loss: 0.4024 - val_acc: 0.8542\n",
      "Epoch 2/50\n",
      "3200/3200 [==============================] - 1s 210us/step - loss: 0.3842 - acc: 0.8366 - val_loss: 0.3227 - val_acc: 0.8802\n",
      "Epoch 3/50\n",
      "3200/3200 [==============================] - 1s 208us/step - loss: 0.3057 - acc: 0.8834 - val_loss: 0.2851 - val_acc: 0.8854\n",
      "Epoch 4/50\n",
      "3200/3200 [==============================] - 1s 209us/step - loss: 0.2650 - acc: 0.8972 - val_loss: 0.2669 - val_acc: 0.8906\n",
      "Epoch 5/50\n",
      "3200/3200 [==============================] - 1s 207us/step - loss: 0.2376 - acc: 0.9100 - val_loss: 0.2490 - val_acc: 0.9036\n",
      "Epoch 6/50\n",
      "3200/3200 [==============================] - 1s 209us/step - loss: 0.2183 - acc: 0.9119 - val_loss: 0.2450 - val_acc: 0.9036\n",
      "Epoch 7/50\n",
      "3200/3200 [==============================] - 1s 208us/step - loss: 0.2030 - acc: 0.9256 - val_loss: 0.2291 - val_acc: 0.9062\n",
      "Epoch 8/50\n",
      "3200/3200 [==============================] - 1s 209us/step - loss: 0.1927 - acc: 0.9266 - val_loss: 0.2300 - val_acc: 0.9010\n",
      "Epoch 9/50\n",
      "3200/3200 [==============================] - 1s 207us/step - loss: 0.1808 - acc: 0.9319 - val_loss: 0.2180 - val_acc: 0.9115\n",
      "Epoch 10/50\n",
      "3200/3200 [==============================] - 1s 208us/step - loss: 0.1733 - acc: 0.9359 - val_loss: 0.2207 - val_acc: 0.9036\n",
      "Epoch 11/50\n",
      "3200/3200 [==============================] - 1s 209us/step - loss: 0.1628 - acc: 0.9384 - val_loss: 0.2169 - val_acc: 0.9062\n",
      "Epoch 12/50\n",
      "3200/3200 [==============================] - 1s 208us/step - loss: 0.1583 - acc: 0.9425 - val_loss: 0.2057 - val_acc: 0.9141\n",
      "Epoch 13/50\n",
      "3200/3200 [==============================] - 1s 208us/step - loss: 0.1470 - acc: 0.9450 - val_loss: 0.2018 - val_acc: 0.9193\n",
      "Epoch 14/50\n",
      "3200/3200 [==============================] - 1s 209us/step - loss: 0.1412 - acc: 0.9522 - val_loss: 0.2020 - val_acc: 0.9089\n",
      "Epoch 15/50\n",
      "3200/3200 [==============================] - 1s 210us/step - loss: 0.1345 - acc: 0.9506 - val_loss: 0.1977 - val_acc: 0.9193\n",
      "Epoch 16/50\n",
      "3200/3200 [==============================] - 1s 208us/step - loss: 0.1289 - acc: 0.9541 - val_loss: 0.1979 - val_acc: 0.9115\n",
      "Epoch 17/50\n",
      "3200/3200 [==============================] - 1s 208us/step - loss: 0.1149 - acc: 0.9622 - val_loss: 0.1942 - val_acc: 0.9167\n",
      "Epoch 18/50\n",
      "3200/3200 [==============================] - 1s 207us/step - loss: 0.1193 - acc: 0.9597 - val_loss: 0.1934 - val_acc: 0.9167\n",
      "Epoch 19/50\n",
      "3200/3200 [==============================] - 1s 207us/step - loss: 0.1153 - acc: 0.9622 - val_loss: 0.2031 - val_acc: 0.9089\n",
      "Epoch 20/50\n",
      "3200/3200 [==============================] - 1s 208us/step - loss: 0.1049 - acc: 0.9663 - val_loss: 0.1957 - val_acc: 0.9115\n",
      "Epoch 21/50\n",
      "3200/3200 [==============================] - 1s 209us/step - loss: 0.1051 - acc: 0.9669 - val_loss: 0.1901 - val_acc: 0.9193\n",
      "Epoch 22/50\n",
      "3200/3200 [==============================] - 1s 208us/step - loss: 0.0995 - acc: 0.9666 - val_loss: 0.1885 - val_acc: 0.9193\n",
      "Epoch 23/50\n",
      "3200/3200 [==============================] - 1s 208us/step - loss: 0.0986 - acc: 0.9688 - val_loss: 0.1889 - val_acc: 0.9193\n",
      "Epoch 24/50\n",
      "3200/3200 [==============================] - 1s 208us/step - loss: 0.0894 - acc: 0.9725 - val_loss: 0.1881 - val_acc: 0.9193\n",
      "Epoch 25/50\n",
      "3200/3200 [==============================] - 1s 208us/step - loss: 0.0848 - acc: 0.9731 - val_loss: 0.1875 - val_acc: 0.9167\n",
      "Epoch 26/50\n",
      "3200/3200 [==============================] - 1s 208us/step - loss: 0.0866 - acc: 0.9728 - val_loss: 0.1893 - val_acc: 0.9115\n",
      "Epoch 27/50\n",
      "3200/3200 [==============================] - 1s 209us/step - loss: 0.0812 - acc: 0.9766 - val_loss: 0.1912 - val_acc: 0.9062\n",
      "Epoch 28/50\n",
      "3200/3200 [==============================] - 1s 208us/step - loss: 0.0754 - acc: 0.9797 - val_loss: 0.2096 - val_acc: 0.9089\n",
      "Epoch 29/50\n",
      "3200/3200 [==============================] - 1s 208us/step - loss: 0.0721 - acc: 0.9800 - val_loss: 0.1859 - val_acc: 0.9167\n",
      "Epoch 30/50\n",
      "3200/3200 [==============================] - 1s 209us/step - loss: 0.0744 - acc: 0.9794 - val_loss: 0.1911 - val_acc: 0.9062\n",
      "Epoch 31/50\n",
      "3200/3200 [==============================] - 1s 207us/step - loss: 0.0704 - acc: 0.9806 - val_loss: 0.1899 - val_acc: 0.9141\n",
      "Epoch 32/50\n",
      "3200/3200 [==============================] - 1s 208us/step - loss: 0.0686 - acc: 0.9806 - val_loss: 0.1881 - val_acc: 0.9141\n",
      "Epoch 33/50\n",
      "3200/3200 [==============================] - 1s 207us/step - loss: 0.0663 - acc: 0.9847 - val_loss: 0.1935 - val_acc: 0.9141\n",
      "Epoch 34/50\n",
      "3200/3200 [==============================] - 1s 208us/step - loss: 0.0631 - acc: 0.9806 - val_loss: 0.1894 - val_acc: 0.9141\n",
      "Epoch 35/50\n",
      "3200/3200 [==============================] - 1s 208us/step - loss: 0.0592 - acc: 0.9853 - val_loss: 0.1873 - val_acc: 0.9167\n",
      "Epoch 36/50\n",
      "3200/3200 [==============================] - 1s 208us/step - loss: 0.0584 - acc: 0.9853 - val_loss: 0.1928 - val_acc: 0.9141\n",
      "Epoch 37/50\n",
      "3200/3200 [==============================] - 1s 208us/step - loss: 0.0565 - acc: 0.9875 - val_loss: 0.1875 - val_acc: 0.9193\n",
      "Epoch 38/50\n",
      "3200/3200 [==============================] - 1s 209us/step - loss: 0.0531 - acc: 0.9856 - val_loss: 0.1891 - val_acc: 0.9193\n",
      "Epoch 39/50\n",
      "3200/3200 [==============================] - 1s 208us/step - loss: 0.0498 - acc: 0.9891 - val_loss: 0.1856 - val_acc: 0.9323\n",
      "Epoch 40/50\n",
      "3200/3200 [==============================] - 1s 207us/step - loss: 0.0522 - acc: 0.9878 - val_loss: 0.1858 - val_acc: 0.9219\n",
      "Epoch 41/50\n",
      "3200/3200 [==============================] - 1s 209us/step - loss: 0.0466 - acc: 0.9881 - val_loss: 0.1910 - val_acc: 0.9193\n",
      "Epoch 42/50\n",
      "3200/3200 [==============================] - 1s 209us/step - loss: 0.0463 - acc: 0.9897 - val_loss: 0.1877 - val_acc: 0.9193\n",
      "Epoch 43/50\n",
      "3200/3200 [==============================] - 1s 208us/step - loss: 0.0429 - acc: 0.9919 - val_loss: 0.1915 - val_acc: 0.9193\n",
      "Epoch 44/50\n",
      "3200/3200 [==============================] - 1s 208us/step - loss: 0.0424 - acc: 0.9912 - val_loss: 0.1986 - val_acc: 0.9167\n",
      "Epoch 45/50\n",
      "3200/3200 [==============================] - 1s 209us/step - loss: 0.0399 - acc: 0.9912 - val_loss: 0.1899 - val_acc: 0.9219\n",
      "Epoch 46/50\n",
      "3200/3200 [==============================] - 1s 207us/step - loss: 0.0392 - acc: 0.9919 - val_loss: 0.1908 - val_acc: 0.9167\n",
      "Epoch 47/50\n",
      "3200/3200 [==============================] - 1s 208us/step - loss: 0.0378 - acc: 0.9941 - val_loss: 0.1913 - val_acc: 0.9219\n",
      "Epoch 48/50\n",
      "3200/3200 [==============================] - 1s 207us/step - loss: 0.0353 - acc: 0.9906 - val_loss: 0.1924 - val_acc: 0.9245\n",
      "Epoch 49/50\n",
      "3200/3200 [==============================] - 1s 208us/step - loss: 0.0359 - acc: 0.9953 - val_loss: 0.1909 - val_acc: 0.9245\n",
      "Epoch 50/50\n",
      "3200/3200 [==============================] - 1s 209us/step - loss: 0.0337 - acc: 0.9947 - val_loss: 0.1957 - val_acc: 0.9193\n"
     ]
    }
   ],
   "source": [
    "# Now we build and train a densly connected classifier on the features extracted in the previous three cells\n",
    "# A dropout layer is added as well to avoid overfitting.\n",
    "\n",
    "from keras import models\n",
    "from keras import layers\n",
    "from keras import optimizers\n",
    "\n",
    "model3 = None\n",
    "\n",
    "model3 = models.Sequential()\n",
    "model3.add(layers.Dense(256, activation='relu', input_dim=4 * 4 * 512))\n",
    "model3.add(layers.Dropout(0.5))\n",
    "model3.add(layers.Dense(1, activation='sigmoid'))\n",
    "\n",
    "model3.compile(optimizer=optimizers.RMSprop(lr=2e-5), loss='binary_crossentropy', metrics=['acc'])\n",
    "\n",
    "history3 = model3.fit(train_features,\n",
    "                     train_labels,\n",
    "                     epochs=50,\n",
    "                     batch_size=32, \n",
    "                     validation_data=(validation_features, validation_labels))"
   ]
  },
  {
   "cell_type": "markdown",
   "metadata": {},
   "source": [
    "## Plotting the training/validation accuracy and loss graphs"
   ]
  },
  {
   "cell_type": "code",
   "execution_count": 66,
   "metadata": {},
   "outputs": [
    {
     "data": {
      "image/png": "[encoded data removed]",
      "text/plain": [
       "<Figure size 432x288 with 1 Axes>"
      ]
     },
     "metadata": {},
     "output_type": "display_data"
    },
    {
     "data": {
      "image/png": "[encoded data removed]",
      "text/plain": [
       "<Figure size 432x288 with 1 Axes>"
      ]
     },
     "metadata": {},
     "output_type": "display_data"
    }
   ],
   "source": [
    "plot_loss_acc_graph(history3)"
   ]
  },
  {
   "cell_type": "markdown",
   "metadata": {},
   "source": [
    "## Discussion\n",
    "\n",
    "* From the graphs we can see that the validation graph are much more smoother with higher accuracy and lower loss than the previous appraoch.\n",
    "* True that the accuracy is not much higher but it can be statistically significant (a test like wilcoxon statistial significant test can be applied to check if a graph is consistantly higher than another).\n",
    "* The main advantage here is that the model is much more stable and its behaviour is more predictiable. Thus, I believe it is more generalisable.\n",
    "\n",
    "Let's try the same approach with data augmentation to see if we can gain more in term of accuracy."
   ]
  },
  {
   "cell_type": "markdown",
   "metadata": {},
   "source": [
    "# Forth Model: Feature Extraction with Data Augmentation\n",
    "\n",
    "This is very similar to the second model buit previsouly, except that in order to use the features of the vgg16 model, we insert it as a first layer in a new newtrok as shown in the next cell."
   ]
  },
  {
   "cell_type": "code",
   "execution_count": 67,
   "metadata": {},
   "outputs": [],
   "source": [
    "model4 = models.Sequential()\n",
    "model4.add(vgg16_base)\n",
    "model4.add(layers.Flatten())\n",
    "model4.add(layers.Dense(256, activation='relu'))\n",
    "model4.add(layers.Dense(1, activation='sigmoid'))"
   ]
  },
  {
   "cell_type": "code",
   "execution_count": 68,
   "metadata": {},
   "outputs": [
    {
     "name": "stdout",
     "output_type": "stream",
     "text": [
      "_________________________________________________________________\n",
      "Layer (type)                 Output Shape              Param #   \n",
      "=================================================================\n",
      "vgg16 (Model)                (None, 4, 4, 512)         14714688  \n",
      "_________________________________________________________________\n",
      "flatten_4 (Flatten)          (None, 8192)              0         \n",
      "_________________________________________________________________\n",
      "dense_23 (Dense)             (None, 256)               2097408   \n",
      "_________________________________________________________________\n",
      "dense_24 (Dense)             (None, 1)                 257       \n",
      "=================================================================\n",
      "Total params: 16,812,353\n",
      "Trainable params: 16,812,353\n",
      "Non-trainable params: 0\n",
      "_________________________________________________________________\n"
     ]
    }
   ],
   "source": [
    "model4.summary()"
   ]
  },
  {
   "cell_type": "code",
   "execution_count": 69,
   "metadata": {},
   "outputs": [],
   "source": [
    "vgg16_base.trainable = False # we freez the training for the vgg16_base layers so the training will affect only the other layers"
   ]
  },
  {
   "cell_type": "code",
   "execution_count": 70,
   "metadata": {},
   "outputs": [],
   "source": [
    "train_datagen4 = ImageDataGenerator(\n",
    "                    rescale=1./255,\n",
    "                    rotation_range=40,\n",
    "                    width_shift_range=0.2,\n",
    "                    height_shift_range=0.2,\n",
    "                    shear_range=0.2,\n",
    "                    zoom_range=0.2,\n",
    "                    horizontal_flip=True,\n",
    "                    fill_mode='nearest')\n",
    "\n",
    "test_datagen4 = ImageDataGenerator(rescale=1./255)"
   ]
  },
  {
   "cell_type": "code",
   "execution_count": 71,
   "metadata": {},
   "outputs": [
    {
     "name": "stdout",
     "output_type": "stream",
     "text": [
      "Found 3225 images belonging to 2 classes.\n",
      "Found 403 images belonging to 2 classes.\n",
      "Epoch 1/100\n",
      "100/100 [==============================] - 33s 326ms/step - loss: 0.5496 - acc: 0.7231 - val_loss: 0.4031 - val_acc: 0.8382\n",
      "Epoch 2/100\n",
      "Epoch 1/100\n",
      "100/100 [==============================] - 29s 291ms/step - loss: 0.4148 - acc: 0.8301 - val_loss: 0.3315 - val_acc: 0.8690\n",
      "Epoch 3/100\n",
      "100/100 [==============================] - 29s 293ms/step - loss: 0.3680 - acc: 0.8493 - val_loss: 0.2867 - val_acc: 0.8930\n",
      "Epoch 4/100\n",
      "100/100 [==============================] - 29s 290ms/step - loss: 0.3312 - acc: 0.8649 - val_loss: 0.2636 - val_acc: 0.8890\n",
      "Epoch 5/100\n",
      "100/100 [==============================] - 29s 292ms/step - loss: 0.3229 - acc: 0.8591 - val_loss: 0.2565 - val_acc: 0.9131\n",
      "Epoch 6/100\n",
      "100/100 [==============================] - 29s 293ms/step - loss: 0.2976 - acc: 0.8796 - val_loss: 0.2423 - val_acc: 0.8984\n",
      "Epoch 7/100\n",
      "100/100 [==============================] - 29s 293ms/step - loss: 0.2823 - acc: 0.8811 - val_loss: 0.2288 - val_acc: 0.9051\n",
      "Epoch 8/100\n",
      "100/100 [==============================] - 29s 294ms/step - loss: 0.2814 - acc: 0.8851 - val_loss: 0.2280 - val_acc: 0.9131\n",
      "Epoch 9/100\n",
      "100/100 [==============================] - 29s 294ms/step - loss: 0.2769 - acc: 0.8855 - val_loss: 0.2215 - val_acc: 0.9064\n",
      "Epoch 10/100\n",
      "100/100 [==============================] - 29s 294ms/step - loss: 0.2590 - acc: 0.8963 - val_loss: 0.2217 - val_acc: 0.9064\n",
      "Epoch 11/100\n",
      "100/100 [==============================] - 30s 296ms/step - loss: 0.2578 - acc: 0.8919 - val_loss: 0.2126 - val_acc: 0.9064\n",
      "Epoch 12/100\n",
      "100/100 [==============================] - 30s 296ms/step - loss: 0.2540 - acc: 0.8951 - val_loss: 0.2213 - val_acc: 0.9037\n",
      "Epoch 13/100\n",
      "100/100 [==============================] - 29s 291ms/step - loss: 0.2577 - acc: 0.8944 - val_loss: 0.2154 - val_acc: 0.8997\n",
      "Epoch 14/100\n",
      "100/100 [==============================] - 30s 295ms/step - loss: 0.2444 - acc: 0.8945 - val_loss: 0.2268 - val_acc: 0.9037\n",
      "Epoch 15/100\n",
      "100/100 [==============================] - 29s 295ms/step - loss: 0.2541 - acc: 0.8933 - val_loss: 0.2199 - val_acc: 0.9064\n",
      "Epoch 16/100\n",
      "100/100 [==============================] - 30s 298ms/step - loss: 0.2370 - acc: 0.9047 - val_loss: 0.1986 - val_acc: 0.9144\n",
      "Epoch 17/100\n",
      "100/100 [==============================] - 29s 294ms/step - loss: 0.2383 - acc: 0.9022 - val_loss: 0.2163 - val_acc: 0.8890\n",
      "Epoch 18/100\n",
      "100/100 [==============================] - 29s 292ms/step - loss: 0.2417 - acc: 0.8999 - val_loss: 0.2058 - val_acc: 0.9024\n",
      "Epoch 19/100\n",
      "100/100 [==============================] - 29s 293ms/step - loss: 0.2429 - acc: 0.8994 - val_loss: 0.2085 - val_acc: 0.9051\n",
      "Epoch 20/100\n",
      "100/100 [==============================] - 29s 294ms/step - loss: 0.2323 - acc: 0.9091 - val_loss: 0.2051 - val_acc: 0.9064\n",
      "Epoch 21/100\n",
      "100/100 [==============================] - 29s 292ms/step - loss: 0.2232 - acc: 0.9126 - val_loss: 0.2105 - val_acc: 0.9037\n",
      "Epoch 22/100\n",
      "100/100 [==============================] - 30s 298ms/step - loss: 0.2299 - acc: 0.9106 - val_loss: 0.2056 - val_acc: 0.9078\n",
      "Epoch 23/100\n",
      "100/100 [==============================] - 29s 293ms/step - loss: 0.2267 - acc: 0.9047 - val_loss: 0.1954 - val_acc: 0.9144\n",
      "Epoch 24/100\n",
      "100/100 [==============================] - 29s 289ms/step - loss: 0.2132 - acc: 0.9151 - val_loss: 0.2129 - val_acc: 0.9131\n",
      "Epoch 25/100\n",
      "100/100 [==============================] - 29s 290ms/step - loss: 0.2240 - acc: 0.9079 - val_loss: 0.1976 - val_acc: 0.9104\n",
      "Epoch 26/100\n",
      "100/100 [==============================] - 29s 290ms/step - loss: 0.2149 - acc: 0.9135 - val_loss: 0.2062 - val_acc: 0.9104\n",
      "Epoch 27/100\n",
      "100/100 [==============================] - 29s 287ms/step - loss: 0.2267 - acc: 0.9055 - val_loss: 0.1915 - val_acc: 0.9131\n",
      "Epoch 28/100\n",
      "100/100 [==============================] - 30s 297ms/step - loss: 0.2267 - acc: 0.9022 - val_loss: 0.2105 - val_acc: 0.9064\n",
      "Epoch 29/100\n",
      "100/100 [==============================] - 29s 290ms/step - loss: 0.2098 - acc: 0.9114 - val_loss: 0.2009 - val_acc: 0.9158\n",
      "Epoch 30/100\n",
      "100/100 [==============================] - 29s 290ms/step - loss: 0.2327 - acc: 0.9051 - val_loss: 0.1947 - val_acc: 0.9158\n",
      "Epoch 31/100\n",
      "100/100 [==============================] - 29s 287ms/step - loss: 0.2151 - acc: 0.9128 - val_loss: 0.1987 - val_acc: 0.9064\n",
      "Epoch 32/100\n",
      "100/100 [==============================] - 29s 291ms/step - loss: 0.2228 - acc: 0.9109 - val_loss: 0.1961 - val_acc: 0.9144\n",
      "Epoch 33/100\n",
      "100/100 [==============================] - 29s 288ms/step - loss: 0.2188 - acc: 0.9043 - val_loss: 0.1984 - val_acc: 0.9144\n",
      "Epoch 34/100\n",
      "100/100 [==============================] - 30s 295ms/step - loss: 0.2166 - acc: 0.9134 - val_loss: 0.2026 - val_acc: 0.9104\n",
      "Epoch 35/100\n",
      "100/100 [==============================] - 29s 290ms/step - loss: 0.2090 - acc: 0.9159 - val_loss: 0.2090 - val_acc: 0.9078\n",
      "Epoch 36/100\n",
      "100/100 [==============================] - 29s 288ms/step - loss: 0.2155 - acc: 0.9137 - val_loss: 0.1903 - val_acc: 0.9211\n",
      "Epoch 37/100\n",
      "100/100 [==============================] - 29s 291ms/step - loss: 0.2139 - acc: 0.9122 - val_loss: 0.2038 - val_acc: 0.9091\n",
      "Epoch 38/100\n",
      "100/100 [==============================] - 29s 287ms/step - loss: 0.2007 - acc: 0.9168 - val_loss: 0.1981 - val_acc: 0.9118\n",
      "Epoch 39/100\n",
      "100/100 [==============================] - 29s 287ms/step - loss: 0.2136 - acc: 0.9134 - val_loss: 0.2018 - val_acc: 0.9131\n",
      "Epoch 40/100\n",
      "100/100 [==============================] - 29s 291ms/step - loss: 0.2109 - acc: 0.9109 - val_loss: 0.2128 - val_acc: 0.9037\n",
      "Epoch 41/100\n",
      "100/100 [==============================] - 29s 287ms/step - loss: 0.1987 - acc: 0.9172 - val_loss: 0.2114 - val_acc: 0.9104\n",
      "Epoch 42/100\n",
      "100/100 [==============================] - 29s 288ms/step - loss: 0.2014 - acc: 0.9202 - val_loss: 0.2333 - val_acc: 0.9104\n",
      "Epoch 43/100\n",
      "100/100 [==============================] - 29s 288ms/step - loss: 0.2088 - acc: 0.9158 - val_loss: 0.1971 - val_acc: 0.9158\n",
      "Epoch 44/100\n",
      "100/100 [==============================] - 29s 287ms/step - loss: 0.2062 - acc: 0.9116 - val_loss: 0.2039 - val_acc: 0.9091\n",
      "Epoch 45/100\n",
      "100/100 [==============================] - 29s 287ms/step - loss: 0.2042 - acc: 0.9149 - val_loss: 0.1998 - val_acc: 0.9211\n",
      "Epoch 46/100\n",
      "100/100 [==============================] - 29s 288ms/step - loss: 0.1975 - acc: 0.9179 - val_loss: 0.2151 - val_acc: 0.9078\n",
      "Epoch 47/100\n",
      "100/100 [==============================] - 30s 299ms/step - loss: 0.2084 - acc: 0.9116 - val_loss: 0.2038 - val_acc: 0.9091\n",
      "Epoch 48/100\n",
      "100/100 [==============================] - 29s 286ms/step - loss: 0.2021 - acc: 0.9125 - val_loss: 0.2050 - val_acc: 0.9091\n",
      "Epoch 49/100\n",
      "100/100 [==============================] - 29s 291ms/step - loss: 0.1999 - acc: 0.9209 - val_loss: 0.1942 - val_acc: 0.9225\n",
      "Epoch 50/100\n",
      "100/100 [==============================] - 29s 287ms/step - loss: 0.2001 - acc: 0.9126 - val_loss: 0.2048 - val_acc: 0.9104\n",
      "Epoch 51/100\n",
      "100/100 [==============================] - 29s 288ms/step - loss: 0.1962 - acc: 0.9189 - val_loss: 0.1949 - val_acc: 0.9118\n",
      "Epoch 52/100\n",
      "100/100 [==============================] - 29s 290ms/step - loss: 0.1982 - acc: 0.9200 - val_loss: 0.2056 - val_acc: 0.9104\n",
      "Epoch 53/100\n",
      "100/100 [==============================] - 29s 292ms/step - loss: 0.1893 - acc: 0.9247 - val_loss: 0.2082 - val_acc: 0.9104\n",
      "Epoch 54/100\n",
      "100/100 [==============================] - 29s 287ms/step - loss: 0.1869 - acc: 0.9275 - val_loss: 0.1993 - val_acc: 0.9171\n",
      "Epoch 55/100\n",
      "100/100 [==============================] - 29s 287ms/step - loss: 0.2013 - acc: 0.9168 - val_loss: 0.1880 - val_acc: 0.9198\n",
      "Epoch 56/100\n",
      "100/100 [==============================] - 29s 290ms/step - loss: 0.1982 - acc: 0.9197 - val_loss: 0.2116 - val_acc: 0.9144\n",
      "Epoch 57/100\n",
      "100/100 [==============================] - 29s 288ms/step - loss: 0.1940 - acc: 0.9214 - val_loss: 0.2130 - val_acc: 0.9037\n",
      "Epoch 58/100\n",
      "100/100 [==============================] - 29s 291ms/step - loss: 0.1994 - acc: 0.9188 - val_loss: 0.2052 - val_acc: 0.9091\n",
      "Epoch 59/100\n",
      "100/100 [==============================] - 29s 293ms/step - loss: 0.1944 - acc: 0.9175 - val_loss: 0.1903 - val_acc: 0.9211\n",
      "Epoch 60/100\n",
      "100/100 [==============================] - 29s 290ms/step - loss: 0.1847 - acc: 0.9215 - val_loss: 0.1927 - val_acc: 0.9144\n",
      "Epoch 61/100\n",
      "100/100 [==============================] - 29s 289ms/step - loss: 0.1912 - acc: 0.9147 - val_loss: 0.1951 - val_acc: 0.9291\n",
      "Epoch 62/100\n",
      "100/100 [==============================] - 29s 289ms/step - loss: 0.2007 - acc: 0.9175 - val_loss: 0.1929 - val_acc: 0.9144\n",
      "Epoch 63/100\n",
      "100/100 [==============================] - 29s 288ms/step - loss: 0.1957 - acc: 0.9225 - val_loss: 0.2129 - val_acc: 0.8997\n",
      "Epoch 64/100\n",
      "100/100 [==============================] - 29s 287ms/step - loss: 0.1972 - acc: 0.9155 - val_loss: 0.2086 - val_acc: 0.9104\n",
      "Epoch 65/100\n",
      "100/100 [==============================] - 29s 292ms/step - loss: 0.1880 - acc: 0.9233 - val_loss: 0.2031 - val_acc: 0.9198\n",
      "Epoch 66/100\n",
      "100/100 [==============================] - 29s 287ms/step - loss: 0.1892 - acc: 0.9218 - val_loss: 0.2437 - val_acc: 0.9051\n",
      "Epoch 67/100\n",
      "100/100 [==============================] - 29s 289ms/step - loss: 0.1834 - acc: 0.9239 - val_loss: 0.2124 - val_acc: 0.9158\n",
      "Epoch 68/100\n",
      "100/100 [==============================] - 29s 289ms/step - loss: 0.1833 - acc: 0.9265 - val_loss: 0.2026 - val_acc: 0.9198\n",
      "Epoch 69/100\n",
      "100/100 [==============================] - 29s 288ms/step - loss: 0.1941 - acc: 0.9200 - val_loss: 0.2000 - val_acc: 0.9171\n",
      "Epoch 70/100\n",
      "100/100 [==============================] - 29s 286ms/step - loss: 0.1914 - acc: 0.9208 - val_loss: 0.2083 - val_acc: 0.9158\n",
      "Epoch 71/100\n",
      "100/100 [==============================] - 29s 292ms/step - loss: 0.1918 - acc: 0.9237 - val_loss: 0.2136 - val_acc: 0.9104\n",
      "Epoch 72/100\n",
      "100/100 [==============================] - 29s 288ms/step - loss: 0.1799 - acc: 0.9312 - val_loss: 0.2076 - val_acc: 0.9131\n",
      "Epoch 73/100\n",
      "100/100 [==============================] - 29s 289ms/step - loss: 0.1801 - acc: 0.9297 - val_loss: 0.2073 - val_acc: 0.9158\n",
      "Epoch 74/100\n",
      "100/100 [==============================] - 29s 288ms/step - loss: 0.1710 - acc: 0.9308 - val_loss: 0.2219 - val_acc: 0.9118\n",
      "Epoch 75/100\n",
      "100/100 [==============================] - 29s 286ms/step - loss: 0.1750 - acc: 0.9253 - val_loss: 0.2223 - val_acc: 0.9118\n",
      "Epoch 76/100\n",
      "100/100 [==============================] - 29s 289ms/step - loss: 0.1856 - acc: 0.9234 - val_loss: 0.2034 - val_acc: 0.9158\n",
      "Epoch 77/100\n",
      "100/100 [==============================] - 29s 288ms/step - loss: 0.1789 - acc: 0.9312 - val_loss: 0.1862 - val_acc: 0.9265\n",
      "Epoch 78/100\n",
      "100/100 [==============================] - 29s 294ms/step - loss: 0.1927 - acc: 0.9170 - val_loss: 0.2092 - val_acc: 0.9104\n",
      "Epoch 79/100\n",
      "100/100 [==============================] - 29s 290ms/step - loss: 0.1808 - acc: 0.9281 - val_loss: 0.2036 - val_acc: 0.9238\n",
      "Epoch 80/100\n",
      "100/100 [==============================] - 29s 287ms/step - loss: 0.1807 - acc: 0.9294 - val_loss: 0.2175 - val_acc: 0.9131\n",
      "Epoch 81/100\n",
      "100/100 [==============================] - 29s 288ms/step - loss: 0.1789 - acc: 0.9273 - val_loss: 0.1979 - val_acc: 0.9198\n",
      "Epoch 82/100\n",
      "100/100 [==============================] - 29s 287ms/step - loss: 0.1860 - acc: 0.9287 - val_loss: 0.2178 - val_acc: 0.9091\n",
      "Epoch 83/100\n",
      "100/100 [==============================] - 29s 288ms/step - loss: 0.1754 - acc: 0.9284 - val_loss: 0.1985 - val_acc: 0.9144\n",
      "Epoch 84/100\n",
      "100/100 [==============================] - 29s 291ms/step - loss: 0.1780 - acc: 0.9273 - val_loss: 0.2007 - val_acc: 0.9251\n",
      "Epoch 85/100\n",
      "100/100 [==============================] - 29s 289ms/step - loss: 0.1827 - acc: 0.9280 - val_loss: 0.2134 - val_acc: 0.9171\n",
      "Epoch 86/100\n",
      "100/100 [==============================] - 29s 288ms/step - loss: 0.1709 - acc: 0.9309 - val_loss: 0.2051 - val_acc: 0.9158\n",
      "Epoch 87/100\n",
      "100/100 [==============================] - 29s 291ms/step - loss: 0.1782 - acc: 0.9286 - val_loss: 0.2056 - val_acc: 0.9171\n",
      "Epoch 88/100\n",
      "100/100 [==============================] - 29s 289ms/step - loss: 0.1789 - acc: 0.9250 - val_loss: 0.1976 - val_acc: 0.9225\n",
      "Epoch 89/100\n",
      "100/100 [==============================] - 29s 287ms/step - loss: 0.1750 - acc: 0.9287 - val_loss: 0.2228 - val_acc: 0.9051\n",
      "Epoch 90/100\n",
      "100/100 [==============================] - 30s 296ms/step - loss: 0.1924 - acc: 0.9189 - val_loss: 0.2026 - val_acc: 0.9238\n",
      "Epoch 91/100\n",
      "100/100 [==============================] - 29s 292ms/step - loss: 0.1721 - acc: 0.9356 - val_loss: 0.2120 - val_acc: 0.9184\n",
      "Epoch 92/100\n",
      "100/100 [==============================] - 29s 290ms/step - loss: 0.1882 - acc: 0.9258 - val_loss: 0.2006 - val_acc: 0.9238\n",
      "Epoch 93/100\n",
      "100/100 [==============================] - 29s 289ms/step - loss: 0.1863 - acc: 0.9283 - val_loss: 0.2060 - val_acc: 0.9171\n",
      "Epoch 94/100\n",
      "100/100 [==============================] - 29s 290ms/step - loss: 0.1745 - acc: 0.9261 - val_loss: 0.1978 - val_acc: 0.9238\n",
      "Epoch 95/100\n",
      "100/100 [==============================] - 29s 291ms/step - loss: 0.1844 - acc: 0.9247 - val_loss: 0.2200 - val_acc: 0.9078\n",
      "Epoch 96/100\n",
      "100/100 [==============================] - 29s 291ms/step - loss: 0.1850 - acc: 0.9284 - val_loss: 0.1996 - val_acc: 0.9184\n",
      "Epoch 97/100\n",
      "100/100 [==============================] - 29s 292ms/step - loss: 0.1792 - acc: 0.9320 - val_loss: 0.2030 - val_acc: 0.9211\n",
      "Epoch 98/100\n",
      "100/100 [==============================] - 29s 289ms/step - loss: 0.1783 - acc: 0.9273 - val_loss: 0.2126 - val_acc: 0.9158\n",
      "Epoch 99/100\n",
      "100/100 [==============================] - 29s 290ms/step - loss: 0.1662 - acc: 0.9345 - val_loss: 0.2029 - val_acc: 0.9238\n",
      "Epoch 100/100\n",
      "100/100 [==============================] - 29s 290ms/step - loss: 0.1739 - acc: 0.9269 - val_loss: 0.2130 - val_acc: 0.9131\n"
     ]
    }
   ],
   "source": [
    "train_generator4 = train_datagen4.flow_from_directory(train_dir,\n",
    "                                                      target_size=(150, 150),\n",
    "                                                      batch_size=32,\n",
    "                                                      class_mode='binary')\n",
    "\n",
    "validation_generator4 = test_datagen4.flow_from_directory(validation_dir,\n",
    "                                                          target_size=(150, 150),\n",
    "                                                          batch_size=15,\n",
    "                                                          class_mode='binary')\n",
    "\n",
    "model4.compile(loss='binary_crossentropy',\n",
    "               optimizer=optimizers.RMSprop(lr=2e-5),\n",
    "               metrics=['acc'])\n",
    "\n",
    "history4 = model4.fit_generator(train_generator4,\n",
    "                               steps_per_epoch=100,\n",
    "                               epochs=100,\n",
    "                               validation_data=validation_generator4,\n",
    "                               validation_steps=50,\n",
    "                                use_multiprocessing=True,\n",
    "                                workers=8)"
   ]
  },
  {
   "cell_type": "markdown",
   "metadata": {},
   "source": [
    "## Plotting the training/validation accuracy and loss graphs"
   ]
  },
  {
   "cell_type": "code",
   "execution_count": 72,
   "metadata": {},
   "outputs": [
    {
     "data": {
      "image/png": "[encoded data removed]",
      "text/plain": [
       "<Figure size 432x288 with 1 Axes>"
      ]
     },
     "metadata": {},
     "output_type": "display_data"
    },
    {
     "data": {
      "image/png": "[encoded data removed]",
      "text/plain": [
       "<Figure size 432x288 with 1 Axes>"
      ]
     },
     "metadata": {},
     "output_type": "display_data"
    }
   ],
   "source": [
    "plot_loss_acc_graph(history4)"
   ]
  },
  {
   "cell_type": "markdown",
   "metadata": {},
   "source": [
    "## Discussion\n",
    "\n",
    "Here we notice that we reach a level of performance where the training and validation accuarcy and loss are close to each others allover the epochs, and the fluctuation of the validation graphs is less than in the first augmented model.\n",
    "\n",
    "We can probably here say that this model is preidcable and more generalisable than the others.\n",
    "\n",
    "Let's run the four models on the test set to check their generalisation power."
   ]
  },
  {
   "cell_type": "markdown",
   "metadata": {},
   "source": [
    "# Running the for models on the test set\n",
    "\n",
    "Let's compare the 4 models in term of accuracy on the test set."
   ]
  },
  {
   "cell_type": "code",
   "execution_count": 99,
   "metadata": {},
   "outputs": [
    {
     "name": "stdout",
     "output_type": "stream",
     "text": [
      "Found 404 images belonging to 2 classes.\n",
      "384/384 [==============================] - 0s 104us/step\n"
     ]
    }
   ],
   "source": [
    "test_datagen = ImageDataGenerator(rescale=1./255)\n",
    "\n",
    "test_generator = test_datagen.flow_from_directory(test_dir,\n",
    "                                                  target_size=(150, 150),\n",
    "                                                  batch_size=32,\n",
    "                                                  class_mode='binary')\n",
    "\n",
    "test_results_list = []\n",
    "\n",
    "test_results_list.append([\"model1\"]+(model.evaluate_generator(test_generator, steps=15)))\n",
    "test_results_list.append([\"model2\"]+(model2.evaluate_generator(test_generator, steps=15)))\n",
    "test_results_list.append([\"model3\"]+(model3.evaluate(test_features, test_labels)))\n",
    "test_results_list.append([\"model4\"]+(model4.evaluate_generator(test_generator, steps=15)))"
   ]
  },
  {
   "cell_type": "code",
   "execution_count": 100,
   "metadata": {},
   "outputs": [],
   "source": [
    "import pandas as pd\n",
    "\n",
    "# helper function to highlight the maximum in a Series yellow.\n",
    "def highlight_max(s):\n",
    "    is_max = s == s.max()\n",
    "    return ['background-color: yellow' if v else '' for v in is_max]\n",
    "\n",
    "test_results = pd.DataFrame.from_records(test_results_list)\n",
    "test_results.columns = [\"Model\", \"Loss\", \"Accuracy\"]"
   ]
  },
  {
   "cell_type": "code",
   "execution_count": 108,
   "metadata": {},
   "outputs": [
    {
     "data": {
      "text/html": [
       "<style  type=\"text/css\" >\n",
       "    #T_e342d55a_8198_11e8_bba8_bffd54d1b350row2_col2 {\n",
       "            background-color:  yellow;\n",
       "        }</style>  \n",
       "<table id=\"T_e342d55a_8198_11e8_bba8_bffd54d1b350\" > \n",
       "<thead>    <tr> \n",
       "        <th class=\"blank level0\" ></th> \n",
       "        <th class=\"col_heading level0 col0\" >Model</th> \n",
       "        <th class=\"col_heading level0 col1\" >Loss</th> \n",
       "        <th class=\"col_heading level0 col2\" >Accuracy</th> \n",
       "    </tr></thead> \n",
       "<tbody>    <tr> \n",
       "        <th id=\"T_e342d55a_8198_11e8_bba8_bffd54d1b350level0_row0\" class=\"row_heading level0 row0\" >0</th> \n",
       "        <td id=\"T_e342d55a_8198_11e8_bba8_bffd54d1b350row0_col0\" class=\"data row0 col0\" >model1</td> \n",
       "        <td id=\"T_e342d55a_8198_11e8_bba8_bffd54d1b350row0_col1\" class=\"data row0 col1\" >1.61217</td> \n",
       "        <td id=\"T_e342d55a_8198_11e8_bba8_bffd54d1b350row0_col2\" class=\"data row0 col2\" >0.754274</td> \n",
       "    </tr>    <tr> \n",
       "        <th id=\"T_e342d55a_8198_11e8_bba8_bffd54d1b350level0_row1\" class=\"row_heading level0 row1\" >1</th> \n",
       "        <td id=\"T_e342d55a_8198_11e8_bba8_bffd54d1b350row1_col0\" class=\"data row1 col0\" >model2</td> \n",
       "        <td id=\"T_e342d55a_8198_11e8_bba8_bffd54d1b350row1_col1\" class=\"data row1 col1\" >0.391263</td> \n",
       "        <td id=\"T_e342d55a_8198_11e8_bba8_bffd54d1b350row1_col2\" class=\"data row1 col2\" >0.865385</td> \n",
       "    </tr>    <tr> \n",
       "        <th id=\"T_e342d55a_8198_11e8_bba8_bffd54d1b350level0_row2\" class=\"row_heading level0 row2\" >2</th> \n",
       "        <td id=\"T_e342d55a_8198_11e8_bba8_bffd54d1b350row2_col0\" class=\"data row2 col0\" >model3</td> \n",
       "        <td id=\"T_e342d55a_8198_11e8_bba8_bffd54d1b350row2_col1\" class=\"data row2 col1\" >0.198717</td> \n",
       "        <td id=\"T_e342d55a_8198_11e8_bba8_bffd54d1b350row2_col2\" class=\"data row2 col2\" >0.921875</td> \n",
       "    </tr>    <tr> \n",
       "        <th id=\"T_e342d55a_8198_11e8_bba8_bffd54d1b350level0_row3\" class=\"row_heading level0 row3\" >3</th> \n",
       "        <td id=\"T_e342d55a_8198_11e8_bba8_bffd54d1b350row3_col0\" class=\"data row3 col0\" >model4</td> \n",
       "        <td id=\"T_e342d55a_8198_11e8_bba8_bffd54d1b350row3_col1\" class=\"data row3 col1\" >0.213744</td> \n",
       "        <td id=\"T_e342d55a_8198_11e8_bba8_bffd54d1b350row3_col2\" class=\"data row3 col2\" >0.912393</td> \n",
       "    </tr></tbody> \n",
       "</table> "
      ],
      "text/plain": [
       "<pandas.io.formats.style.Styler at 0x7f3b47202668>"
      ]
     },
     "execution_count": 108,
     "metadata": {},
     "output_type": "execute_result"
    }
   ],
   "source": [
    "test_results.style.apply(highlight_max, subset=['Accuracy'])"
   ]
  },
  {
   "cell_type": "markdown",
   "metadata": {},
   "source": [
    "## Discussion"
   ]
  },
  {
   "cell_type": "markdown",
   "metadata": {},
   "source": [
    "* From the table above we notice that the third model (feature extraction using pre-trained CNN) has the best accuracy\n",
    "* I expected model4 to be more generalisable, which can still be the case as the accuracies of model3 and model4 are very close.\n",
    "* Model1 and model2 has much lower accuracy on the testset.\n",
    "* Note that in term of loss function model1 is the best one followed by model3 then model4 then model2.\n",
    "* Considering both values (loss and accuracy), model3 can be considered as the best classifier among the other three for this dataset."
   ]
  },
  {
   "cell_type": "markdown",
   "metadata": {},
   "source": [
    "# Final Remarks\n",
    "\n",
    "* In this notebook I have built and compared four binary classifiers for chickens and cows images.\n",
    "* Using pre-trained CNN is beneficial and lead to better results.\n",
    "* Data augmentation might not always give the best results, but it has the advantage of being less prone to overfitting and yiel more predicable classifiers (no much fluctuation in the validation graphs).\n",
    "\n",
    "* Further enhancement can be acheived by fine tuning as an extension to the pre-trained approaches.\n",
    "In fine tuning we de-freez some of the layer of the pre-trained network and we re-train their parameter, this can lead to even better classifiers, but some i can be a time consuming process.\n",
    "* The hyper parameters can be optimsed to get better results, namely the learning rate. Few learning rates can be tested.\n",
    "\n",
    "* The resizing to 150 x 150 pixels images can distort the images, and different resizing strategies can be tested.\n",
    "I have tested a crop_and_pad function as described here: https://jdhao.github.io/2017/11/06/resize-image-to-square-with-padding/, but this didn't lead to better results. More investigations are necessary here."
   ]
  },
  {
   "cell_type": "code",
   "execution_count": null,
   "metadata": {},
   "outputs": [],
   "source": []
  }
 ],
 "metadata": {
  "kernelspec": {
   "display_name": "cainthusenv",
   "language": "python",
   "name": "cainthusenv"
  },
  "language_info": {
   "codemirror_mode": {
    "name": "ipython",
    "version": 2
   },
   "file_extension": ".py",
   "mimetype": "text/x-python",
   "name": "python",
   "nbconvert_exporter": "python",
   "pygments_lexer": "ipython2",
   "version": "2.7.10"
  }
 },
 "nbformat": 4,
 "nbformat_minor": 2
}
